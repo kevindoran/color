{
 "cells": [
  {
   "cell_type": "markdown",
   "id": "a2b70840-f219-4bea-8e9a-c02b2a88a164",
   "metadata": {},
   "source": [
    "# Experiment 1.5.2\n",
    "Experiment 1.5.1, but with ResNet18 instead of ResNet50."
   ]
  },
  {
   "cell_type": "markdown",
   "id": "990945e3-cff0-47e8-8f06-b0661fb82cba",
   "metadata": {},
   "source": [
    "The model is switched and the discussion in section 6 is different. Otherwise, this notebook is just a duplicate of 1.5.1.\n",
    "\n",
    "This is a bit of a step back from experiment 1.4 in terms of complexity. We are back to a single dot and back to dealing with the final layer. The difference now is we will vary the dot size and position."
   ]
  },
  {
   "cell_type": "code",
   "execution_count": 1,
   "id": "5a59f077-4c7f-40ef-85c4-f162fe21c791",
   "metadata": {},
   "outputs": [],
   "source": [
    "import os\n",
    "import pickle\n",
    "import time\n",
    "import copy\n",
    "import pathlib\n",
    "import itertools\n",
    "from collections import namedtuple\n",
    "from enum import Enum\n",
    "from typing import *\n",
    "import IPython\n",
    "import cv2\n",
    "import numpy as np\n",
    "import torch.optim\n",
    "import torch.hub\n",
    "import torchvision as tv\n",
    "import torchvision.datasets\n",
    "import torchvision.models\n",
    "import torchvision.transforms\n",
    "import matplotlib.pyplot as plt\n",
    "import matplotlib as mpl\n",
    "from icecream import ic\n",
    "import nncolor as nc\n",
    "import nncolor.data"
   ]
  },
  {
   "cell_type": "code",
   "execution_count": 2,
   "id": "8819851d-bc75-4448-82d6-41f19ed34a88",
   "metadata": {},
   "outputs": [],
   "source": [
    "presentation_mode = True\n",
    "if presentation_mode:\n",
    "    import warnings\n",
    "    plt.style.use('science')\n",
    "    warnings.filterwarnings('ignore')\n",
    "    mpl.rcParams.update({'font.size': 30})\n",
    "    mpl.rcParams.update({'axes.labelsize': 30})\n",
    "    mpl.rcParams.update({'text.usetex': True})"
   ]
  },
  {
   "cell_type": "code",
   "execution_count": 3,
   "id": "d5b71a61-6fa2-4eb2-8b7e-d4ee091c94bd",
   "metadata": {
    "tags": []
   },
   "outputs": [],
   "source": [
    "def imshow(img):\n",
    "    \"\"\"Show image. \n",
    "    \n",
    "    Image is a HWC numpy array with values in the range 0-1.\"\"\"\n",
    "    img = img*255\n",
    "    img = cv2.cvtColor(img, cv2.COLOR_RGB2BGR)\n",
    "    # cv2 imencode takes images in HWC dimension order.\n",
    "    _,ret = cv2.imencode('.jpg', img) \n",
    "    i = IPython.display.Image(data=ret)\n",
    "    IPython.display.display(i) "
   ]
  },
  {
   "cell_type": "markdown",
   "id": "0fd5833b-9a67-4180-a0ab-6671ced4f801",
   "metadata": {},
   "source": [
    "## 1. Notebook constants\n",
    "Variables used as constants throughout the notebook."
   ]
  },
  {
   "cell_type": "code",
   "execution_count": 4,
   "id": "a43a4086-094e-43a5-9bad-c788920d33ca",
   "metadata": {},
   "outputs": [],
   "source": [
    "EXPERIMENT = '1_5_2'\n",
    "# Choose CPU or GPU.\n",
    "device = torch.device('cuda:1')\n",
    "#device = \"cpu\"\n",
    "\n",
    "# Choose small or large (standard) model variant\n",
    "model_name = 'resnet18'\n",
    "def model_fctn():\n",
    "    if model_name == 'resnet18':\n",
    "        return tv.models.resnet18(pretrained=True)\n",
    "    elif model_name == 'resnet50':\n",
    "        return tv.models.resnet50(pretrained=True)\n",
    "resnet_model = model_fctn()\n",
    "\n",
    "IMG_SHAPE = (224, 224, 3)\n",
    "GRID_SHAPE = (1, 1)\n",
    "CENTER_ACTIVATION = 0 # position (1, 1) in grid of 1x1\n",
    "NUM_CELLS = 1\n",
    "cell_shape = nc.data.cell_shape(GRID_SHAPE, IMG_SHAPE)\n",
    "assert np.array_equal(cell_shape, IMG_SHAPE[0:-1])\n",
    "BATCH_SIZE = 64 \n",
    "NUM_EPOCHS = 20\n",
    "NUM_FC_CHANNELS = 512 if model_name == 'resnet18' else 2048\n",
    "SAVE_PATH_FMT = './resources/exp_' + EXPERIMENT + '/{model_name}_radius_{radius}_offset_{offset}_save'\n",
    "ACC_SAVE_PATH = './resources/exp_' + EXPERIMENT + f'/{model_name}_accuracy.json'"
   ]
  },
  {
   "cell_type": "markdown",
   "id": "74eb1270-5a28-4f18-ad6c-92615139f8b6",
   "metadata": {},
   "source": [
    "## 2. Dataset\n",
    "We will generate 15x29=435 different dataset variations. For each variation, we will run the type of experiment from experiment 1.3."
   ]
  },
  {
   "cell_type": "code",
   "execution_count": 5,
   "id": "92098ae6-eb07-4bdf-a300-87c82dcba563",
   "metadata": {},
   "outputs": [],
   "source": [
    "# Variations by dot position, offset from center along south-east diagonal.\n",
    "# 15 different offsets, from 0 to 112 inclusive.\n",
    "# 112 / 8 = 14\n",
    "offsets = list(range(0, 112+1, 8))\n",
    "assert len(offsets) == 15\n",
    "# Varations, by dot radius.\n",
    "# 29 different offsets from 0 to 168 inclusive. 0 is replaced by 1 for the first radius.\n",
    "# 168 / 6 = 28. \n",
    "radii = [1,] + list(range(6, 168 + 1, 6))\n",
    "assert len(radii) == 29"
   ]
  },
  {
   "cell_type": "markdown",
   "id": "d3370d15-e8ff-47bd-904d-cd77690106f4",
   "metadata": {},
   "source": [
    "Some examples are shown below:"
   ]
  },
  {
   "cell_type": "code",
   "execution_count": 6,
   "id": "a5655866-68c5-4cce-9100-eb494714f987",
   "metadata": {},
   "outputs": [
    {
     "data": {
      "image/png": "[encoded data removed]",
      "text/plain": [
       "<Figure size 1080x432 with 10 Axes>"
      ]
     },
     "metadata": {
      "needs_background": "light"
     },
     "output_type": "display_data"
    }
   ],
   "source": [
    "def show_examples():\n",
    "    \"\"\"Print some example dots.\"\"\"\n",
    "    fig = plt.figure(figsize=(15, 6))\n",
    "    by_size = [nc.data.ColorDotDataset(nc.data.exp_1_1_data_filtered,\n",
    "                                       grid_shape=GRID_SHAPE,\n",
    "                                       dot_radius=r) for r in radii[4:-1:5]]\n",
    "    by_offset = [nc.data.ColorDotDataset(nc.data.exp_1_1_data_filtered,\n",
    "                                         grid_shape=GRID_SHAPE, dot_radius=30, \n",
    "                                         dot_offset=o) for o in offsets[0:-1:3]]\n",
    "    # Display with Matplotlib\n",
    "    cols = 5\n",
    "    rows = 2\n",
    "    for i in range(cols):\n",
    "        ax_top = fig.add_subplot(rows, cols, i+1)\n",
    "        ax_bottom = fig.add_subplot(rows, cols, i+cols+1)\n",
    "        ax_top.set_axis_off()\n",
    "        ax_bottom.set_axis_off()\n",
    "        ax_top.imshow(by_size[i][0]['image'])\n",
    "        ax_bottom.imshow(by_offset[i][0]['image'])\n",
    "    fig.subplots_adjust(hspace=0.05, wspace=0.05)\n",
    "    plt.savefig(\"./out/report/nn_dataset_ob.pdf\", format=\"pdf\", bbox_inches=\"tight\")\n",
    "    plt.show()\n",
    "show_examples()"
   ]
  },
  {
   "cell_type": "code",
   "execution_count": 7,
   "id": "d93654c7-1559-4a7b-a64e-052313cc934b",
   "metadata": {},
   "outputs": [],
   "source": [
    "# Data augmentation and normalization\n",
    "normalize_transform =  tv.transforms.Normalize([0.485, 0.456, 0.406], [0.229, 0.224, 0.225])\n",
    "to_CHW_tensor_transform = tv.transforms.ToTensor()\n",
    "data_transform = tv.transforms.Compose([to_CHW_tensor_transform, normalize_transform])\n",
    "\n",
    "def datasplits_by_pos_and_radius():\n",
    "    \"\"\"Create the datasets.\"\"\"\n",
    "    color_data = nc.data.exp_1_1_combined_data\n",
    "    # We are ignoring the very few data points labeled \"both\".\n",
    "    color_data = color_data[color_data['ans'] != nc.data.LABEL_TO_COLOR_ID['both']]\n",
    "    color_data = nc.data.deserialize(color_data)\n",
    "    def train_test_val(offset, radius):\n",
    "        train_ds, test_ds, val_ds = nc.data.train_test_val_split(color_data,\n",
    "                                                                dot_radius=radius,\n",
    "                                                                grid_shape=GRID_SHAPE,\n",
    "                                                                dot_offset=(offset, offset))\n",
    "        DataSplit = namedtuple('DataSplit', ['ds', 'loader', 'size'])\n",
    "        splits = {\n",
    "            'train': DataSplit(train_ds, torch.utils.data.DataLoader(train_ds, batch_size=BATCH_SIZE, num_workers=4), len(train_ds)),\n",
    "            'test':  DataSplit(test_ds,  torch.utils.data.DataLoader(test_ds, batch_size=BATCH_SIZE, num_workers=4), len(test_ds)),\n",
    "            'val':   DataSplit(val_ds,   torch.utils.data.DataLoader(val_ds, batch_size=BATCH_SIZE, num_workers=4), len(val_ds))\n",
    "        }\n",
    "        splits['val'].ds.transform = data_transform\n",
    "        splits['train'].ds.transform = data_transform\n",
    "        splits['test'].ds.transform = to_CHW_tensor_transform\n",
    "        return splits\n",
    "    datasplits = {(o,r): train_test_val(o, r) for (o,r) in itertools.product(offsets, radii)}\n",
    "    return datasplits \n",
    "datasplits = datasplits_by_pos_and_radius()"
   ]
  },
  {
   "cell_type": "markdown",
   "id": "977799eb-b44e-4fb3-9d27-a27ba7b82f0a",
   "metadata": {},
   "source": [
    "## 3. Model\n",
    "The model is a pretrained ResNet, with all parameters fixed except those in the final layer."
   ]
  },
  {
   "cell_type": "code",
   "execution_count": 8,
   "id": "87d97526-eb1a-480b-bca8-20f2aad4ec65",
   "metadata": {},
   "outputs": [],
   "source": [
    "def tweaked_model():\n",
    "    model = model_fctn()\n",
    "    for param in model.parameters():\n",
    "        param.requires_grad = False\n",
    "    num_features = model.fc.in_features\n",
    "    model.fc = torch.nn.Linear(num_features, 4)\n",
    "    return model"
   ]
  },
  {
   "cell_type": "markdown",
   "id": "22943a2a-3f17-40de-8665-619629f9c0b6",
   "metadata": {},
   "source": [
    "## 4. Training"
   ]
  },
  {
   "cell_type": "code",
   "execution_count": null,
   "id": "695ad9ee-ac84-4971-887f-ada46c1c4631",
   "metadata": {},
   "outputs": [],
   "source": [
    "def train_new_model(datasplit):\n",
    "    model = tweaked_model()\n",
    "    model = model.to(device)\n",
    "    optimizer = torch.optim.SGD(model.parameters(), lr=0.001, momentum=0.9)\n",
    "    scheduler = torch.optim.lr_scheduler.StepLR(optimizer, step_size=7, gamma=0.1)\n",
    "    best_model_wts = copy.deepcopy(model.state_dict())\n",
    "    best_acc = 0.0\n",
    "\n",
    "    for epoch in range(NUM_EPOCHS):\n",
    "        for phase in ['train', 'val']:\n",
    "            if phase == 'train':\n",
    "                model.train()\n",
    "            else:\n",
    "                model.eval()\n",
    "\n",
    "            running_loss = 0.0\n",
    "            running_corrects = 0\n",
    "\n",
    "            for batch in datasplit[phase].loader:\n",
    "                inputs = batch['image'].to(device)\n",
    "                labels = batch['label'].to(device)\n",
    "\n",
    "                # zero the parameter gradients\n",
    "                optimizer.zero_grad()\n",
    "\n",
    "                # forward\n",
    "                # track history if only in train\n",
    "                with torch.set_grad_enabled(phase == 'train'):\n",
    "                    outputs = model(inputs)\n",
    "                    _, preds = torch.max(outputs, 1)\n",
    "                    loss = torch.nn.functional.cross_entropy(outputs, labels)\n",
    "                    if phase == 'train':\n",
    "                        loss.backward()\n",
    "                        optimizer.step()\n",
    "\n",
    "                # statistics\n",
    "                running_loss += loss.item() * inputs.size(0)\n",
    "                running_corrects += torch.sum(preds == labels.data)\n",
    "            if phase == 'train':\n",
    "                scheduler.step()\n",
    "\n",
    "            denom = datasplit[phase].size\n",
    "            epoch_loss = running_loss / denom\n",
    "            epoch_acc = running_corrects.double() / denom\n",
    "            if phase == 'val' and epoch_acc > best_acc:\n",
    "                best_acc = epoch_acc\n",
    "                best_model_wts = copy.deepcopy(model.state_dict())            \n",
    "    return best_model_wts\n",
    "\n",
    "def run_training(force=False):\n",
    "    for (offset, radius), datasplit in datasplits.items():\n",
    "        save_path = SAVE_PATH_FMT.format(model_name=model_name,  offset=offset,  radius=radius)\n",
    "        if not force and pathlib.Path(save_path).exists():\n",
    "            continue\n",
    "        print(f'Training start. Offset {offset}, radius {radius}')\n",
    "        best_model_wts = train_new_model(datasplit)\n",
    "        torch.save(best_model_wts, save_path)\n",
    "run_training()"
   ]
  },
  {
   "cell_type": "markdown",
   "id": "6746b3d0-34dc-43e9-9d31-aea7a1f3a956",
   "metadata": {},
   "source": [
    "## 5. Investigate model\n",
    "For all datasets, a separate model has been trained. Now test each model on the test set and record the accuracy. The results are shown below."
   ]
  },
  {
   "cell_type": "code",
   "execution_count": 10,
   "id": "0733bc1b-dd06-4aa9-8103-bcd5d5010877",
   "metadata": {},
   "outputs": [],
   "source": [
    "def inspect(): \n",
    "    acc = {}\n",
    "    for (offset, radius), datasplit in datasplits.items():\n",
    "        model = tweaked_model().to(device)\n",
    "        model.load_state_dict(\n",
    "            torch.load(SAVE_PATH_FMT.format(model_name=model_name, \n",
    "                                            radius=radius, offset=offset)))\n",
    "        corrects = 0\n",
    "        for batch in datasplit['test'].loader:\n",
    "            images = batch['image']\n",
    "            inputs = normalize_transform(images).to(device)\n",
    "            labels = batch['label'].to(device)\n",
    "            outputs = model(inputs)\n",
    "            _, preds = torch.max(outputs, 1)\n",
    "            corrects += torch.sum(preds == labels.data)\n",
    "        acc[(offset, radius)] = corrects / datasplit['test'].size\n",
    "    return acc\n",
    "\n",
    "if pathlib.Path(ACC_SAVE_PATH).exists():\n",
    "    with open(ACC_SAVE_PATH, 'rb') as f:\n",
    "        acc = pickle.load(f)\n",
    "else:\n",
    "    acc = inspect()\n",
    "    with open(ACC_SAVE_PATH, 'wb') as f:\n",
    "        pickle.dump(acc, f)"
   ]
  },
  {
   "cell_type": "code",
   "execution_count": 11,
   "id": "64ab55d0-c7d5-45ab-a653-a6dff128330e",
   "metadata": {},
   "outputs": [
    {
     "name": "stdout",
     "output_type": "stream",
     "text": [
      "Min 0.567, max: 0.862, mean: 0.818, var: 0.001\n",
      "\n"
     ]
    },
    {
     "data": {
      "image/png": "[encoded data removed]",
      "text/plain": [
       "<Figure size 1440x1440 with 2 Axes>"
      ]
     },
     "metadata": {
      "needs_background": "light"
     },
     "output_type": "display_data"
    }
   ],
   "source": [
    "def display_data():\n",
    "    arr = np.zeros((len(offsets), len(radii)))\n",
    "    xlabels = offsets\n",
    "    ylabels = radii\n",
    "    for odx, o in enumerate(offsets):\n",
    "        for rdx, r in enumerate(radii):\n",
    "            arr[odx, rdx] = acc[(o, r)]\n",
    "    fig, ax = plt.subplots(figsize=(20, 20))\n",
    "    cmap = 'gray' \n",
    "    cmap = 'viridis'\n",
    "    plt_img = ax.imshow(arr, cmap=cmap, vmin=0.5, vmax=1.0)\n",
    "    ax.invert_yaxis()\n",
    "    ax.set_xlabel('Center Cirle Radius (pixels)')\n",
    "    ax.set_ylabel('Center Circle Offset (pixels)', labelpad=20)\n",
    "    ax.set_title(f'{model_name.capitalize()} Classification Accuracy for Various\\nOrange-Brown Dataset Settings')\n",
    "    num_labels = 7\n",
    "    x_positions, x_labels = zip(*((i, radii[i]) for i in range(0, len(radii), 5)))\n",
    "    y_positions, y_labels = zip(*((i, offsets[i]) for i in range(0, len(offsets), 5)))\n",
    "    ax.xaxis.set_ticks(x_positions)\n",
    "    ax.xaxis.set_ticklabels(x_labels)\n",
    "    ax.yaxis.set_ticks(y_positions)\n",
    "    ax.yaxis.set_ticklabels(y_labels)\n",
    "    from mpl_toolkits.axes_grid1 import make_axes_locatable\n",
    "    divider = make_axes_locatable(ax)\n",
    "    cax = divider.append_axes(\"right\", size=\"5%\", pad=0.2)\n",
    "    fig.colorbar(plt_img, cax=cax)\n",
    "    cax.set_ylabel('Classification accuracy (\\%/100)', labelpad=28)\n",
    "    print(f'Min {np.min(arr):.3f}, max: {np.max(arr):.3f}, mean: {np.mean(arr):.3f}, var: {np.var(arr):.3f}\\n')\n",
    "display_data()    "
   ]
  },
  {
   "cell_type": "markdown",
   "id": "59ed26ab-d96d-4f94-b0c7-e82a1a9eb0f5",
   "metadata": {},
   "source": [
    "## 6. Discussion\n",
    "81.8% mean accuracy. Similar to the ResNet50 test (81.1%). The ResNet18 network seems to have had less of an issue with small circles with large offset. I wonder if this is a consequence of the differences in depth and if the relationship extends to even deeper or shallower networks. If so, it might suggest transfer learning be carried out differently for different network depths (more layers needing to be retrained for deeper networks)."
   ]
  }
 ],
 "metadata": {
  "kernelspec": {
   "display_name": "Python 3 (ipykernel)",
   "language": "python",
   "name": "python3"
  },
  "language_info": {
   "codemirror_mode": {
    "name": "ipython",
    "version": 3
   },
   "file_extension": ".py",
   "mimetype": "text/x-python",
   "name": "python",
   "nbconvert_exporter": "python",
   "pygments_lexer": "ipython3",
   "version": "3.7.11"
  }
 },
 "nbformat": 4,
 "nbformat_minor": 5
}
