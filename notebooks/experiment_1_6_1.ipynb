{
 "cells": [
  {
   "cell_type": "markdown",
   "id": "79d2ad01-037a-4483-b9f6-6d0d876c8bfb",
   "metadata": {},
   "source": [
    "# Experiment 1.5.1\n",
    "Here we take a slight step back and simplify the test images to be a single dot. The size and position of the dot will be varied."
   ]
  },
  {
   "cell_type": "code",
   "execution_count": 1,
   "id": "5a59f077-4c7f-40ef-85c4-f162fe21c791",
   "metadata": {},
   "outputs": [],
   "source": [
    "import cv2\n",
    "import numpy as np\n",
    "from enum import Enum\n",
    "import colorsys\n",
    "import moviepy.editor as mpe\n",
    "import moviepy\n",
    "from typing import *\n",
    "import random\n",
    "import pandas as pd\n",
    "import json\n",
    "import torch\n",
    "from icecream import ic\n",
    "import nncolor as nc\n",
    "import nncolor.data\n",
    "import torchinfo\n",
    "import torchvision as tv\n",
    "import torchvision.datasets\n",
    "import itertools\n",
    "import torchvision.models\n",
    "import torchvision.transforms\n",
    "import torch.nn\n",
    "import torch.optim\n",
    "import time\n",
    "import copy\n",
    "import os\n",
    "import torch.hub\n",
    "from collections import namedtuple\n",
    "import ipyplot\n",
    "import matplotlib.pyplot as plt\n",
    "import matplotlib as mpl"
   ]
  },
  {
   "cell_type": "markdown",
   "id": "0fd5833b-9a67-4180-a0ab-6671ced4f801",
   "metadata": {},
   "source": [
    "## 1. Notebook constants\n",
    "Variables used as constants throughout the notebook."
   ]
  },
  {
   "cell_type": "code",
   "execution_count": 3,
   "id": "a14e9fa8-2bff-481c-9b93-036eef8c74a0",
   "metadata": {},
   "outputs": [],
   "source": [
    "# Choose CPU or GPU.\n",
    "device = torch.device('cuda:1')\n",
    "#device = \"cpu\"\n",
    "\n",
    "# Choose small or large (standard) model variant\n",
    "model_name = \"resnet18\"\n",
    "#model_name = 'resnet50'\n",
    "def model_fctn():\n",
    "    if model_name == 'resnet18':\n",
    "        return tv.models.resnet18(pretrained=True)\n",
    "    elif model_name == 'resnet50':\n",
    "        return tv.models.resnet50(pretrained=True)\n",
    "resnet_model = model_fctn()\n",
    "\n",
    "IMG_SHAPE = (224, 224, 3)\n",
    "BATCH_SIZE = 4\n",
    "NUM_EPOCHS = 20\n",
    "NUM_FC_CHANNELS = 512 if model_name == 'resnet18' else 2048"
   ]
  },
  {
   "cell_type": "code",
   "execution_count": null,
   "id": "58050a97-0156-48f7-946b-cd46f14a0521",
   "metadata": {},
   "outputs": [],
   "source": []
  }
 ],
 "metadata": {
  "kernelspec": {
   "display_name": "Python 3",
   "language": "python",
   "name": "python3"
  },
  "language_info": {
   "codemirror_mode": {
    "name": "ipython",
    "version": 3
   },
   "file_extension": ".py",
   "mimetype": "text/x-python",
   "name": "python",
   "nbconvert_exporter": "python",
   "pygments_lexer": "ipython3",
   "version": "3.8.8"
  }
 },
 "nbformat": 4,
 "nbformat_minor": 5
}
