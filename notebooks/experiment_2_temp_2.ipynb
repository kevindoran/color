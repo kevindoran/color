{
 "cells": [
  {
   "cell_type": "markdown",
   "id": "d54351b9-2094-4f16-abaa-c11a44183fbc",
   "metadata": {},
   "source": [
    "# Experiment 2.2.1\n",
    "Inspecting receptive field sizes."
   ]
  },
  {
   "cell_type": "code",
   "execution_count": 1,
   "id": "819d19d5-1b76-4dee-9c15-c7fa7b9d0ef3",
   "metadata": {},
   "outputs": [],
   "source": [
    "import tempfile\n",
    "import zipfile\n",
    "import urllib\n",
    "import numpy as np\n",
    "import torch\n",
    "import pathlib\n",
    "import torchvision as tv\n",
    "import torchvision.datasets\n",
    "import torchvision.transforms\n",
    "import pandas as pd\n",
    "from icecream import ic\n",
    "import json\n",
    "import xarray as xr\n",
    "import matplotlib as mpl\n",
    "import matplotlib.pyplot as plt\n",
    "import mpl_toolkits as mplt\n",
    "import mpl_toolkits.axes_grid1\n",
    "from collections import namedtuple\n",
    "import ipyplot\n",
    "import cv2\n",
    "import einops\n",
    "import PIL\n",
    "import PIL.ImageCms\n",
    "import IPython\n",
    "import nncolor.colornet as colornet\n",
    "import math\n",
    "import re\n",
    "import timm\n",
    "import torch_receptive_field as rf "
   ]
  },
  {
   "cell_type": "code",
   "execution_count": 11,
   "id": "d7f8cf97-da82-465c-a862-2aecda0a9fce",
   "metadata": {},
   "outputs": [],
   "source": [
    "class TestResNet(tv.models.ResNet):\n",
    "    def __init__(self, *args, **kwargs):\n",
    "        super().__init__(*args, **kwargs)\n",
    "        self.feature_maps = [self.conv1, self.layer1, self.layer2, self.layer3,\n",
    "                             self.layer4]\n",
    "        \n",
    "    def _forward_impl(self, x: torch.Tensor) -> torch.Tensor:\n",
    "        # See note [TorchScript super()]\n",
    "        x = self.conv1(x)\n",
    "        x = self.bn1(x)\n",
    "        x = self.relu(x)\n",
    "        x = self.maxpool(x)\n",
    "\n",
    "        x = self.layer1(x)\n",
    "        x = self.layer2(x)\n",
    "        x = self.layer3(x)\n",
    "        x = self.layer4(x)\n",
    "        # Stop above.\n",
    "        #x = self.avgpool(x)\n",
    "        # x = torch.flatten(x, 1)\n",
    "        # x = self.fc(x)\n",
    "        #x = self.fc(x)\n",
    "        return x\n",
    "    \n",
    "def model_fn():\n",
    "    #m = tv.models.resnet50(pretrained=True)\n",
    "    m = TestResNet(tv.models.resnet.Bottleneck, [3, 4, 6, 3])\n",
    "    m.feature_maps = [m.conv1, m.layer1]\n",
    "    return m\n",
    "model = model_fn()"
   ]
  },
  {
   "cell_type": "code",
   "execution_count": 12,
   "id": "c90512b7-f6e2-49bc-b589-e5b596220ebb",
   "metadata": {},
   "outputs": [],
   "source": [
    "device = torch.device(\"cuda\" if torch.cuda.is_available() else \"cpu\") # PyTorch v0.4.0\n",
    "#model = timm.models.resnet50(pretrained=True)\n",
    "model = model.to(device)"
   ]
  },
  {
   "cell_type": "code",
   "execution_count": 54,
   "id": "4b17c9cf-347c-4176-977a-ff834ee77a70",
   "metadata": {},
   "outputs": [
    {
     "name": "stdout",
     "output_type": "stream",
     "text": [
      "------------------------------------------------------------------------------\n",
      "        Layer (type)    map size      start       jump receptive_field \n",
      "==============================================================================\n",
      "        0             [224, 224]        0.5        1.0             1.0 \n",
      "        1             [112, 112]        0.5        2.0             7.0 \n",
      "        2             [112, 112]        0.5        2.0             7.0 \n",
      "        3             [112, 112]        0.5        2.0             7.0 \n",
      "        4               [56, 56]        0.5        4.0            11.0 \n",
      "        5               [56, 56]        0.5        4.0            11.0 \n",
      "        6               [56, 56]        0.5        4.0            11.0 \n",
      "        7               [56, 56]        0.5        4.0            11.0 \n",
      "        8               [56, 56]        0.5        4.0            19.0 \n",
      "        9               [56, 56]        0.5        4.0            19.0 \n",
      "        10              [56, 56]        0.5        4.0            19.0 \n",
      "        11              [56, 56]        0.5        4.0            19.0 \n",
      "        12              [56, 56]        0.5        4.0            19.0 \n",
      "        13              [56, 56]        0.5        4.0            19.0 \n",
      "        14              [56, 56]        0.5        4.0            19.0 \n",
      "        15              [56, 56]        0.5        4.0            19.0 \n",
      "        16              [56, 56]        0.5        4.0            19.0 \n",
      "        17              [56, 56]        0.5        4.0            19.0 \n",
      "        18              [56, 56]        0.5        4.0            19.0 \n",
      "        19              [56, 56]        0.5        4.0            19.0 \n",
      "        20              [56, 56]        0.5        4.0            27.0 \n",
      "        21              [56, 56]        0.5        4.0            27.0 \n",
      "        22              [56, 56]        0.5        4.0            27.0 \n",
      "        23              [56, 56]        0.5        4.0            27.0 \n",
      "        24              [56, 56]        0.5        4.0            27.0 \n",
      "        25              [56, 56]        0.5        4.0            27.0 \n",
      "        26              [56, 56]        0.5        4.0            27.0 \n",
      "        27              [56, 56]        0.5        4.0            27.0 \n",
      "        28              [56, 56]        0.5        4.0            27.0 \n",
      "        29              [56, 56]        0.5        4.0            27.0 \n",
      "        30              [56, 56]        0.5        4.0            35.0 \n",
      "        31              [56, 56]        0.5        4.0            35.0 \n",
      "        32              [56, 56]        0.5        4.0            35.0 \n",
      "        33              [56, 56]        0.5        4.0            35.0 \n",
      "        34              [56, 56]        0.5        4.0            35.0 \n",
      "        35              [56, 56]        0.5        4.0            35.0 \n",
      "        36              [56, 56]        0.5        4.0            35.0 \n",
      "        37              [56, 56]        0.5        4.0            35.0 \n",
      "        38              [56, 56]        0.5        4.0            35.0 \n",
      "        39              [56, 56]        0.5        4.0            35.0 \n",
      "        40              [28, 28]        0.5        8.0            43.0 \n",
      "        41              [28, 28]        0.5        8.0            43.0 \n",
      "        42              [28, 28]        0.5        8.0            43.0 \n",
      "        43              [28, 28]        0.5        8.0            43.0 \n",
      "        44              [28, 28]        0.5        8.0            43.0 \n",
      "        45              [28, 28]        0.5       16.0            43.0 \n",
      "        46              [28, 28]        0.5       16.0            43.0 \n",
      "        47              [28, 28]        0.5       16.0            43.0 \n",
      "        48              [28, 28]        0.5       16.0            43.0 \n",
      "        49              [28, 28]        0.5       16.0            43.0 \n",
      "        50              [28, 28]        0.5       16.0            43.0 \n",
      "        51              [28, 28]        0.5       16.0            43.0 \n",
      "        52              [28, 28]        0.5       16.0            75.0 \n",
      "        53              [28, 28]        0.5       16.0            75.0 \n",
      "        54              [28, 28]        0.5       16.0            75.0 \n",
      "        55              [28, 28]        0.5       16.0            75.0 \n",
      "        56              [28, 28]        0.5       16.0            75.0 \n",
      "        57              [28, 28]        0.5       16.0            75.0 \n",
      "        58              [28, 28]        0.5       16.0            75.0 \n",
      "        59              [28, 28]        0.5       16.0            75.0 \n",
      "        60              [28, 28]        0.5       16.0            75.0 \n",
      "        61              [28, 28]        0.5       16.0            75.0 \n",
      "        62              [28, 28]        0.5       16.0           107.0 \n",
      "        63              [28, 28]        0.5       16.0           107.0 \n",
      "        64              [28, 28]        0.5       16.0           107.0 \n",
      "        65              [28, 28]        0.5       16.0           107.0 \n",
      "        66              [28, 28]        0.5       16.0           107.0 \n",
      "        67              [28, 28]        0.5       16.0           107.0 \n",
      "        68              [28, 28]        0.5       16.0           107.0 \n",
      "        69              [28, 28]        0.5       16.0           107.0 \n",
      "        70              [28, 28]        0.5       16.0           107.0 \n",
      "        71              [28, 28]        0.5       16.0           107.0 \n",
      "        72              [28, 28]        0.5       16.0           139.0 \n",
      "        73              [28, 28]        0.5       16.0           139.0 \n",
      "        74              [28, 28]        0.5       16.0           139.0 \n",
      "        75              [28, 28]        0.5       16.0           139.0 \n",
      "        76              [28, 28]        0.5       16.0           139.0 \n",
      "        77              [28, 28]        0.5       16.0           139.0 \n",
      "        78              [28, 28]        0.5       16.0           139.0 \n",
      "        79              [28, 28]        0.5       16.0           139.0 \n",
      "        80              [28, 28]        0.5       16.0           139.0 \n",
      "        81              [28, 28]        0.5       16.0           139.0 \n",
      "        82              [14, 14]        0.5       32.0           171.0 \n",
      "        83              [14, 14]        0.5       32.0           171.0 \n",
      "        84              [14, 14]        0.5       32.0           171.0 \n",
      "        85              [14, 14]        0.5       32.0           171.0 \n",
      "        86              [14, 14]        0.5       32.0           171.0 \n",
      "        87              [14, 14]        0.5       64.0           171.0 \n",
      "        88              [14, 14]        0.5       64.0           171.0 \n",
      "        89              [14, 14]        0.5       64.0           171.0 \n",
      "        90              [14, 14]        0.5       64.0           171.0 \n",
      "        91              [14, 14]        0.5       64.0           171.0 \n",
      "        92              [14, 14]        0.5       64.0           171.0 \n",
      "        93              [14, 14]        0.5       64.0           171.0 \n",
      "        94              [14, 14]        0.5       64.0           299.0 \n",
      "        95              [14, 14]        0.5       64.0           299.0 \n",
      "        96              [14, 14]        0.5       64.0           299.0 \n",
      "        97              [14, 14]        0.5       64.0           299.0 \n",
      "        98              [14, 14]        0.5       64.0           299.0 \n",
      "        99              [14, 14]        0.5       64.0           299.0 \n",
      "        100             [14, 14]        0.5       64.0           299.0 \n",
      "        101             [14, 14]        0.5       64.0           299.0 \n",
      "        102             [14, 14]        0.5       64.0           299.0 \n",
      "        103             [14, 14]        0.5       64.0           299.0 \n",
      "        104             [14, 14]        0.5       64.0           427.0 \n",
      "        105             [14, 14]        0.5       64.0           427.0 \n",
      "        106             [14, 14]        0.5       64.0           427.0 \n",
      "        107             [14, 14]        0.5       64.0           427.0 \n",
      "        108             [14, 14]        0.5       64.0           427.0 \n",
      "        109             [14, 14]        0.5       64.0           427.0 \n",
      "        110             [14, 14]        0.5       64.0           427.0 \n",
      "        111             [14, 14]        0.5       64.0           427.0 \n",
      "        112             [14, 14]        0.5       64.0           427.0 \n",
      "        113             [14, 14]        0.5       64.0           427.0 \n",
      "        114             [14, 14]        0.5       64.0           555.0 \n",
      "        115             [14, 14]        0.5       64.0           555.0 \n",
      "        116             [14, 14]        0.5       64.0           555.0 \n",
      "        117             [14, 14]        0.5       64.0           555.0 \n",
      "        118             [14, 14]        0.5       64.0           555.0 \n",
      "        119             [14, 14]        0.5       64.0           555.0 \n",
      "        120             [14, 14]        0.5       64.0           555.0 \n",
      "        121             [14, 14]        0.5       64.0           555.0 \n",
      "        122             [14, 14]        0.5       64.0           555.0 \n",
      "        123             [14, 14]        0.5       64.0           555.0 \n",
      "        124             [14, 14]        0.5       64.0           683.0 \n",
      "        125             [14, 14]        0.5       64.0           683.0 \n",
      "        126             [14, 14]        0.5       64.0           683.0 \n",
      "        127             [14, 14]        0.5       64.0           683.0 \n",
      "        128             [14, 14]        0.5       64.0           683.0 \n",
      "        129             [14, 14]        0.5       64.0           683.0 \n",
      "        130             [14, 14]        0.5       64.0           683.0 \n",
      "        131             [14, 14]        0.5       64.0           683.0 \n",
      "        132             [14, 14]        0.5       64.0           683.0 \n",
      "        133             [14, 14]        0.5       64.0           683.0 \n",
      "        134             [14, 14]        0.5       64.0           811.0 \n",
      "        135             [14, 14]        0.5       64.0           811.0 \n",
      "        136             [14, 14]        0.5       64.0           811.0 \n",
      "        137             [14, 14]        0.5       64.0           811.0 \n",
      "        138             [14, 14]        0.5       64.0           811.0 \n",
      "        139             [14, 14]        0.5       64.0           811.0 \n",
      "        140             [14, 14]        0.5       64.0           811.0 \n",
      "        141             [14, 14]        0.5       64.0           811.0 \n",
      "        142             [14, 14]        0.5       64.0           811.0 \n",
      "        143             [14, 14]        0.5       64.0           811.0 \n",
      "        144               [7, 7]        0.5      128.0           939.0 \n",
      "        145               [7, 7]        0.5      128.0           939.0 \n",
      "        146               [7, 7]        0.5      128.0           939.0 \n",
      "        147               [7, 7]        0.5      128.0           939.0 \n",
      "        148               [7, 7]        0.5      128.0           939.0 \n",
      "        149               [7, 7]        0.5      256.0           939.0 \n",
      "        150               [7, 7]        0.5      256.0           939.0 \n",
      "        151               [7, 7]        0.5      256.0           939.0 \n",
      "        152               [7, 7]        0.5      256.0           939.0 \n",
      "        153               [7, 7]        0.5      256.0           939.0 \n",
      "        154               [7, 7]        0.5      256.0           939.0 \n",
      "        155               [7, 7]        0.5      256.0           939.0 \n",
      "        156               [7, 7]        0.5      256.0          1451.0 \n",
      "        157               [7, 7]        0.5      256.0          1451.0 \n",
      "        158               [7, 7]        0.5      256.0          1451.0 \n",
      "        159               [7, 7]        0.5      256.0          1451.0 \n",
      "        160               [7, 7]        0.5      256.0          1451.0 \n",
      "        161               [7, 7]        0.5      256.0          1451.0 \n",
      "        162               [7, 7]        0.5      256.0          1451.0 \n",
      "        163               [7, 7]        0.5      256.0          1451.0 \n",
      "        164               [7, 7]        0.5      256.0          1451.0 \n",
      "        165               [7, 7]        0.5      256.0          1451.0 \n",
      "        166               [7, 7]        0.5      256.0          1963.0 \n",
      "        167               [7, 7]        0.5      256.0          1963.0 \n",
      "        168               [7, 7]        0.5      256.0          1963.0 \n",
      "        169               [7, 7]        0.5      256.0          1963.0 \n",
      "        170               [7, 7]        0.5      256.0          1963.0 \n",
      "        171               [7, 7]        0.5      256.0          1963.0 \n",
      "        172               [7, 7]        0.5      256.0          1963.0 \n",
      "==============================================================================\n",
      "Receptive field size for layer 1, unit_position (4, 4),  is \n",
      " [(5.0, 12.0), (5.0, 12.0)]\n"
     ]
    },
    {
     "data": {
      "text/plain": [
       "[(5.0, 12.0), (5.0, 12.0)]"
      ]
     },
     "execution_count": 54,
     "metadata": {},
     "output_type": "execute_result"
    }
   ],
   "source": [
    "receptive_field_dict = rf.receptive_field(model, (3, 224, 224))\n",
    "rf.receptive_field_for_unit(receptive_field_dict, \"1\", (4,4))"
   ]
  },
  {
   "cell_type": "code",
   "execution_count": 53,
   "id": "42108a02-1383-432f-826f-8f7c62a39017",
   "metadata": {},
   "outputs": [
    {
     "data": {
      "text/plain": [
       "OrderedDict([('j', 256.0),\n",
       "             ('r', 1963.0),\n",
       "             ('start', 0.5),\n",
       "             ('input_shape', [-1, 2048, 7, 7]),\n",
       "             ('output_shape', [-1, 2048, 7, 7])])"
      ]
     },
     "execution_count": 53,
     "metadata": {},
     "output_type": "execute_result"
    }
   ],
   "source": [
    "list(receptive_field_dict.values())[-2]"
   ]
  },
  {
   "cell_type": "code",
   "execution_count": 74,
   "id": "3400a519-c64f-4613-b01c-4bb531ffab71",
   "metadata": {},
   "outputs": [],
   "source": [
    "t = [a for a,b in dict({'a':1,'b':2,'c':3,'d':4}).items()]\n",
    "x,y = zip(*[(k,v['r']) for (k,v) in list(receptive_field_dict.items())[:-20]])\n",
    "#x,y = zip(*[(k,v['r']) for (k,v) in list(receptive_field_dict.items())[:-80]])"
   ]
  },
  {
   "cell_type": "code",
   "execution_count": 73,
   "id": "11d9a05d-06e8-4fe1-82ac-30a75b523af9",
   "metadata": {},
   "outputs": [
    {
     "data": {
      "text/plain": [
       "[<matplotlib.lines.Line2D at 0x7f6f70e2cc50>]"
      ]
     },
     "execution_count": 73,
     "metadata": {},
     "output_type": "execute_result"
    },
    {
     "data": {
      "image/png": "[encoded data removed]",
      "text/plain": [
       "<Figure size 432x288 with 1 Axes>"
      ]
     },
     "metadata": {
      "needs_background": "light"
     },
     "output_type": "display_data"
    }
   ],
   "source": [
    "yn = np.array(y, dtype='float32')\n",
    "yn = 100* (yn * yn) / (224.0*224.0)\n",
    "plt.plot(x,yn)"
   ]
  },
  {
   "cell_type": "code",
   "execution_count": 68,
   "id": "cf6370fb-a1bb-4086-b37e-8296dc809318",
   "metadata": {},
   "outputs": [
    {
     "data": {
      "text/plain": [
       "array([0.00000000e+00, 1.99298465e-05, 7.97193861e-05, 1.79368624e-04,\n",
       "       3.18877544e-04, 4.98246169e-04, 7.17474497e-04, 9.76562500e-04,\n",
       "       1.27551018e-03, 1.61431765e-03, 1.99298467e-03, 2.41151149e-03,\n",
       "       2.86989799e-03, 3.36814416e-03, 3.90625000e-03, 4.48421575e-03,\n",
       "       5.10204071e-03, 5.75972581e-03, 6.45727059e-03, 7.19467457e-03,\n",
       "       7.97193870e-03, 8.78906250e-03, 9.64604598e-03, 1.05428891e-02,\n",
       "       1.14795920e-02, 1.24561545e-02, 1.34725766e-02, 1.45288585e-02,\n",
       "       1.56250000e-02, 1.67610012e-02, 1.79368630e-02, 1.91525836e-02,\n",
       "       2.04081628e-02, 2.17036027e-02, 2.30389033e-02, 2.44140625e-02,\n",
       "       2.58290824e-02, 2.72839610e-02, 2.87786983e-02, 3.03132981e-02,\n",
       "       3.18877548e-02, 3.35020721e-02, 3.51562500e-02, 3.68502885e-02,\n",
       "       3.85841839e-02, 4.03579399e-02, 4.21715565e-02, 4.40250337e-02,\n",
       "       4.59183678e-02, 4.78515625e-02, 4.98246178e-02, 5.18375337e-02,\n",
       "       5.38903065e-02, 5.59829399e-02, 5.81154339e-02, 6.02877885e-02,\n",
       "       6.25000000e-02, 6.47520721e-02, 6.70440048e-02, 6.93757981e-02,\n",
       "       7.17474520e-02, 7.41589591e-02, 7.66103342e-02, 7.91015625e-02,\n",
       "       8.16326514e-02, 8.42036009e-02, 8.68144110e-02, 8.94650817e-02,\n",
       "       9.21556130e-02, 9.48860049e-02, 9.76562500e-02, 1.00466356e-01,\n",
       "       1.03316329e-01, 1.06206156e-01, 1.09135844e-01, 1.12105392e-01,\n",
       "       1.15114793e-01, 1.18164062e-01, 1.21253192e-01, 1.24382176e-01,\n",
       "       1.27551019e-01, 1.30759731e-01, 1.34008288e-01, 1.37296721e-01,\n",
       "       1.40625000e-01, 1.43993139e-01, 1.47401154e-01, 1.50849015e-01,\n",
       "       1.54336736e-01, 1.57864317e-01, 1.61431760e-01, 1.65039062e-01,\n",
       "       1.68686226e-01, 1.72373250e-01, 1.76100135e-01, 1.79866865e-01,\n",
       "       1.83673471e-01, 1.87519923e-01, 1.91406250e-01, 1.95332423e-01,\n",
       "       1.99298471e-01, 2.03304365e-01, 2.07350135e-01, 2.11435750e-01,\n",
       "       2.15561226e-01, 2.19726562e-01, 2.23931760e-01, 2.28176817e-01,\n",
       "       2.32461736e-01, 2.36786515e-01, 2.41151154e-01, 2.45555639e-01,\n",
       "       2.50000000e-01, 2.54484206e-01, 2.59008288e-01, 2.63572216e-01,\n",
       "       2.68176019e-01, 2.72819668e-01, 2.77503192e-01, 2.82226562e-01,\n",
       "       2.86989808e-01, 2.91792899e-01, 2.96635836e-01, 3.01518649e-01,\n",
       "       3.06441337e-01, 3.11403871e-01, 3.16406250e-01, 3.21448505e-01,\n",
       "       3.26530606e-01, 3.31652582e-01, 3.36814404e-01, 3.42016101e-01,\n",
       "       3.47257644e-01, 3.52539062e-01, 3.57860327e-01, 3.63221467e-01,\n",
       "       3.68622452e-01, 3.74063283e-01, 3.79544020e-01, 3.85064572e-01,\n",
       "       3.90625000e-01, 3.96225274e-01, 4.01865423e-01, 4.07545447e-01,\n",
       "       4.13265318e-01, 4.19025034e-01, 4.24824625e-01, 4.30664062e-01,\n",
       "       4.36543375e-01, 4.42462534e-01, 4.48421568e-01, 4.54420447e-01,\n",
       "       4.60459173e-01, 4.66537774e-01], dtype=float32)"
      ]
     },
     "execution_count": 68,
     "metadata": {},
     "output_type": "execute_result"
    }
   ],
   "source": [
    "xn"
   ]
  },
  {
   "cell_type": "code",
   "execution_count": null,
   "id": "94265dd6-6cbb-4de9-b748-6e901ed10219",
   "metadata": {},
   "outputs": [],
   "source": []
  }
 ],
 "metadata": {
  "kernelspec": {
   "display_name": "Python 3 (ipykernel)",
   "language": "python",
   "name": "python3"
  },
  "language_info": {
   "codemirror_mode": {
    "name": "ipython",
    "version": 3
   },
   "file_extension": ".py",
   "mimetype": "text/x-python",
   "name": "python",
   "nbconvert_exporter": "python",
   "pygments_lexer": "ipython3",
   "version": "3.7.11"
  }
 },
 "nbformat": 4,
 "nbformat_minor": 5
}
