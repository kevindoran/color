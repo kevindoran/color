{
 "cells": [
  {
   "cell_type": "markdown",
   "id": "79d2ad01-037a-4483-b9f6-6d0d876c8bfb",
   "metadata": {},
   "source": [
    "# Experiment 1.6.1\n",
    "A green-blue version of 1.5, carried out for the purposes of comparison."
   ]
  },
  {
   "cell_type": "markdown",
   "id": "2650c2ec-a6da-4702-babc-803c2ef7d6a0",
   "metadata": {},
   "source": [
    "A green-blue dataset similar to the orange-brown dataset will be programatically created. Then the steps of experiment 1.5 are run for this dataset."
   ]
  },
  {
   "cell_type": "code",
   "execution_count": 1,
   "id": "5a59f077-4c7f-40ef-85c4-f162fe21c791",
   "metadata": {},
   "outputs": [],
   "source": [
    "import os\n",
    "import pickle\n",
    "import time\n",
    "import copy\n",
    "import pathlib\n",
    "import itertools\n",
    "from collections import namedtuple\n",
    "from enum import Enum\n",
    "from typing import *\n",
    "import IPython\n",
    "import cv2\n",
    "import numpy as np\n",
    "import torch.optim\n",
    "import torch.hub\n",
    "import torchvision as tv\n",
    "import torchvision.datasets\n",
    "import torchvision.models\n",
    "import torchvision.transforms\n",
    "import matplotlib.pyplot as plt\n",
    "import matplotlib as mpl\n",
    "import pandas as pd\n",
    "import colorsys\n",
    "from icecream import ic\n",
    "import nncolor as nc\n",
    "import nncolor.data"
   ]
  },
  {
   "cell_type": "code",
   "execution_count": 2,
   "id": "debee8b7-2557-442a-9f93-0375f15efffb",
   "metadata": {},
   "outputs": [],
   "source": [
    "presentation_mode = True\n",
    "if presentation_mode:\n",
    "    import warnings\n",
    "    plt.style.use('science')\n",
    "    warnings.filterwarnings('ignore')\n",
    "    mpl.rcParams.update({'font.size': 30})\n",
    "    mpl.rcParams.update({'axes.labelsize': 30})\n",
    "    mpl.rcParams.update({'text.usetex': True})"
   ]
  },
  {
   "cell_type": "code",
   "execution_count": 3,
   "id": "d5b71a61-6fa2-4eb2-8b7e-d4ee091c94bd",
   "metadata": {
    "tags": []
   },
   "outputs": [],
   "source": [
    "import IPython\n",
    "def imshow(img):\n",
    "    \"\"\"Show image. \n",
    "    \n",
    "    Image is a HWC numpy array with values in the range 0-1.\"\"\"\n",
    "    img = img*255\n",
    "    img = cv2.cvtColor(img, cv2.COLOR_RGB2BGR)\n",
    "    # cv2 imencode takes images in HWC dimension order.\n",
    "    _,ret = cv2.imencode('.jpg', img) \n",
    "    i = IPython.display.Image(data=ret)\n",
    "    IPython.display.display(i) "
   ]
  },
  {
   "cell_type": "markdown",
   "id": "0fd5833b-9a67-4180-a0ab-6671ced4f801",
   "metadata": {},
   "source": [
    "## 1. Notebook constants\n",
    "Variables used as constants throughout the notebook."
   ]
  },
  {
   "cell_type": "code",
   "execution_count": 4,
   "id": "3710a79e-c21f-4b7e-b1dc-43c66086191d",
   "metadata": {},
   "outputs": [],
   "source": [
    "EXPERIMENT = '1_6_1'\n",
    "# Choose CPU or GPU.\n",
    "device = torch.device('cuda:1')\n",
    "#device = \"cpu\"\n",
    "\n",
    "# Choose small or large (standard) model variant\n",
    "model_name = 'resnet50'\n",
    "def model_fctn():\n",
    "    if model_name == 'resnet18':\n",
    "        return tv.models.resnet18(pretrained=True)\n",
    "    elif model_name == 'resnet50':\n",
    "        return tv.models.resnet50(pretrained=True)\n",
    "resnet_model = model_fctn()\n",
    "\n",
    "IMG_SHAPE = (224, 224, 3)\n",
    "GRID_SHAPE = (1, 1)\n",
    "CENTER_ACTIVATION = 0 # position (1, 1) in grid of 1x1\n",
    "NUM_CELLS = 1\n",
    "cell_shape = nc.data.cell_shape(GRID_SHAPE, IMG_SHAPE)\n",
    "assert np.array_equal(cell_shape, IMG_SHAPE[0:-1])\n",
    "BATCH_SIZE = 64 \n",
    "NUM_EPOCHS = 20\n",
    "NUM_FC_CHANNELS = 512 if model_name == 'resnet18' else 2048\n",
    "SAVE_PATH_FMT = './resources/exp_' + EXPERIMENT + '/{model_name}_radius_{radius}_offset_{offset}_save'\n",
    "ACC_SAVE_PATH = './resources/exp_' + EXPERIMENT + f'/{model_name}_accuracy.json'"
   ]
  },
  {
   "cell_type": "markdown",
   "id": "74eb1270-5a28-4f18-ad6c-92615139f8b6",
   "metadata": {},
   "source": [
    "## 2. Dataset\n",
    "Here we try to create a similar dataset to the orange-brown dataset, but with two colors that can be distinguished with hue, rather than relative brightness. The class weights are kept the same, with the number of red classifications matching those of orange in the orange-brown data set. Similarly, green maps to brown, and neither to neither, which carries the same meaning in both datasets. The dataset is created programatically; however, the settings were experimentally tested to insure they would not create incorrect classifications."
   ]
  },
  {
   "cell_type": "code",
   "execution_count": 5,
   "id": "a95a5899-db3f-4d73-ad2e-c29845e6a099",
   "metadata": {},
   "outputs": [],
   "source": [
    "# Variations by dot position, offset from center along south-east diagonal.\n",
    "# 15 different offsets, from 0 to 112 inclusive.\n",
    "# 112 / 8 = 14\n",
    "offsets = list(range(0, 112+1, 8))\n",
    "assert len(offsets) == 15\n",
    "# Varations, by dot radius.\n",
    "# 29 different offsets from 0 to 168 inclusive. 0 is replaced by 1 for the first radius.\n",
    "# 168 / 6 = 28. \n",
    "radii = [1,] + list(range(6, 168 + 1, 6))\n",
    "assert len(radii) == 29"
   ]
  },
  {
   "cell_type": "code",
   "execution_count": 6,
   "id": "4c5dc728-657e-4c66-a953-915f31f46e95",
   "metadata": {},
   "outputs": [],
   "source": [
    "class RedGreenData:\n",
    "  \n",
    "    RED = 0\n",
    "    GREEN = 1\n",
    "    OTHER = 2\n",
    "    \n",
    "    def __init__(self, num_red, num_green, num_other):\n",
    "        self._rng = np.random.default_rng(345)\n",
    "        self.red = []\n",
    "        self.green = []\n",
    "        self.other = []\n",
    "        self._populate(num_red, num_green, num_other)\n",
    "        \n",
    "    def _random_color_pair(self):\n",
    "        gray_rgb = np.array([self._rng.random()]*3)\n",
    "        circle_hsv = self._rng.random(size=3)\n",
    "        return (circle_hsv, gray_rgb)\n",
    "    \n",
    "    def _populate(self, num_red, num_green, num_other):\n",
    "        def fin():\n",
    "            fin =  len(self.red) >= num_red and \\\n",
    "                   len(self.green) >= num_green and \\\n",
    "                   len(self.other) >= num_other\n",
    "            return fin\n",
    "        \n",
    "        while not fin():\n",
    "            c,bg = self._random_color_pair()\n",
    "            if self.is_red(c):\n",
    "                self.red.append((self.RED, colorsys.hsv_to_rgb(*c), bg))\n",
    "            elif self.is_green(c):\n",
    "                self.green.append((self.GREEN, colorsys.hsv_to_rgb(*c), bg))\n",
    "            elif self.is_other(c):\n",
    "                self.other.append((self.OTHER, colorsys.hsv_to_rgb(*c), bg))\n",
    "            else:\n",
    "                continue\n",
    "        self.red = self.red[:num_red]\n",
    "        self.green = self.green[:num_green]\n",
    "        self.other = self.other[:num_other]\n",
    "        self.data = np.concatenate([self.red, self.green, self.other])\n",
    "        self._rng.shuffle(self.data)\n",
    "            \n",
    "    @staticmethod\n",
    "    def is_red(hsv):\n",
    "        hsv = hsv * [360.0, 100.0, 100.0]\n",
    "        res = (hsv[0] >= 350 or hsv[0] <= 8) and (hsv[1] >= 50) and (hsv[2] >= 30)\n",
    "        return res\n",
    "    \n",
    "    @staticmethod\n",
    "    def is_green(hsv):\n",
    "        hsv = hsv * [360.0, 100.0, 100.0]\n",
    "        res = (70 <= hsv[0] <= 155) and (hsv[1] >= 50) and (hsv[2] >= 50)\n",
    "        return res\n",
    "    \n",
    "    @staticmethod\n",
    "    def is_other(hsv):\n",
    "        hsv = hsv * [360.0, 100.0, 100.0]\n",
    "        res = (18.0 <= hsv[0] <= 60.0 or 165.0 <= hsv[0] <= 340.0) and \\\n",
    "            (hsv[1] >= 50) and (hsv[2] >= 30)\n",
    "        return res\n",
    "   \n",
    "orange_brown_data = pd.read_csv('./resources/experiment_1_1_combined_edited.csv')\n",
    "num_orange, num_brown, num_other = orange_brown_data['ans'].value_counts()[[0, 1, 3]]\n",
    "red_green_data = RedGreenData(num_orange, num_brown, num_other).data.tolist()"
   ]
  },
  {
   "cell_type": "markdown",
   "id": "ff8c2b53-b68d-4317-85e6-e88c6b4b27d9",
   "metadata": {},
   "source": [
    "Below are some samples from the dataset."
   ]
  },
  {
   "cell_type": "code",
   "execution_count": 7,
   "id": "d6374e05-010a-416b-9eeb-f6e6af04f5bc",
   "metadata": {},
   "outputs": [
    {
     "data": {
      "image/png": "[encoded data removed]",
      "text/plain": [
       "<Figure size 1224x504 with 5 Axes>"
      ]
     },
     "metadata": {
      "needs_background": "light"
     },
     "output_type": "display_data"
    }
   ],
   "source": [
    "def show_examples():\n",
    "    fig = plt.figure(figsize=(17, 7))\n",
    "    ds = nc.data.ColorDotDataset(red_green_data,\n",
    "                                       grid_shape=GRID_SHAPE,\n",
    "                                       dot_radius=60)\n",
    "    # Offset was chosen to find five continuous samples that contained all classes.\n",
    "    offset = 7\n",
    "    cols = 5\n",
    "    for i in range(cols):\n",
    "        ax = fig.add_subplot(1, cols, i+1)\n",
    "        ax.set_axis_off()\n",
    "        ax.imshow(ds[i+offset]['image'])\n",
    "        label_id = ds[i+offset]['label']\n",
    "        if label_id == 0:\n",
    "            label = 'Red'\n",
    "        elif label_id == 1:\n",
    "            label = 'Green'\n",
    "        else:\n",
    "            label = 'Other'\n",
    "        ax.set_title(label, fontsize=22)\n",
    "    fig.subplots_adjust(hspace=0.10, wspace=0.10)\n",
    "    plt.savefig(\"./out/report/nn_dataset_rg.pdf\", format=\"pdf\", bbox_inches=\"tight\")\n",
    "    plt.show()\n",
    "show_examples()"
   ]
  },
  {
   "cell_type": "code",
   "execution_count": 8,
   "id": "f9672045-058f-44b2-bdb8-b74fc2f03000",
   "metadata": {},
   "outputs": [],
   "source": [
    "# Data augmentation and normalization\n",
    "normalize_transform =  tv.transforms.Normalize([0.485, 0.456, 0.406], [0.229, 0.224, 0.225])\n",
    "to_CHW_tensor_transform = tv.transforms.ToTensor()\n",
    "data_transform = tv.transforms.Compose([to_CHW_tensor_transform, normalize_transform])\n",
    "\n",
    "def datasplits_by_pos_and_radius():\n",
    "    \"\"\"Create the datasets.\"\"\"\n",
    "    color_data = nc.data.exp_1_1_combined_data\n",
    "    # We are ignoring the very few data points labeled \"both\".\n",
    "    color_data = color_data[color_data['ans'] != nc.data.LABEL_TO_COLOR_ID['both']]\n",
    "    color_data = nc.data.deserialize(color_data)\n",
    "    def train_test_val(offset, radius):\n",
    "        train_ds, test_ds, val_ds = nc.data.train_test_val_split(color_data,\n",
    "                                                                dot_radius=radius,\n",
    "                                                                grid_shape=GRID_SHAPE,\n",
    "                                                                dot_offset=(offset, offset))\n",
    "        DataSplit = namedtuple('DataSplit', ['ds', 'loader', 'size'])\n",
    "        splits = {\n",
    "            'train': DataSplit(train_ds, torch.utils.data.DataLoader(train_ds, batch_size=BATCH_SIZE, num_workers=4), len(train_ds)),\n",
    "            'test':  DataSplit(test_ds,  torch.utils.data.DataLoader(test_ds, batch_size=BATCH_SIZE, num_workers=4), len(test_ds)),\n",
    "            'val':   DataSplit(val_ds,   torch.utils.data.DataLoader(val_ds, batch_size=BATCH_SIZE, num_workers=4), len(val_ds))\n",
    "        }\n",
    "        splits['val'].ds.transform = data_transform\n",
    "        splits['train'].ds.transform = data_transform\n",
    "        splits['test'].ds.transform = to_CHW_tensor_transform\n",
    "        return splits\n",
    "    datasplits = {(o,r): train_test_val(o, r) for (o,r) in itertools.product(offsets, radii)}\n",
    "    return datasplits \n",
    "datasplits = datasplits_by_pos_and_radius()"
   ]
  },
  {
   "cell_type": "markdown",
   "id": "83508dd2-9b6e-4984-a2ff-21ef1e02f12f",
   "metadata": {},
   "source": [
    "## 3. Model\n",
    "The model is a pretrained ResNet, with all parameters fixed except those in the final layer."
   ]
  },
  {
   "cell_type": "code",
   "execution_count": 9,
   "id": "a4648862-0f07-4a51-9936-b9632582e973",
   "metadata": {},
   "outputs": [],
   "source": [
    "def tweaked_model():\n",
    "    model = model_fctn()\n",
    "    for param in model.parameters():\n",
    "        param.requires_grad = False\n",
    "    num_features = model.fc.in_features\n",
    "    model.fc = torch.nn.Linear(num_features, 4)\n",
    "    return model"
   ]
  },
  {
   "cell_type": "markdown",
   "id": "ad31196f-5df6-4952-8bf2-3fd04832f9eb",
   "metadata": {},
   "source": [
    "## 4. Training"
   ]
  },
  {
   "cell_type": "code",
   "execution_count": 10,
   "id": "5263e1b2-290f-4239-bef8-7613948b6e45",
   "metadata": {},
   "outputs": [],
   "source": [
    "def train_new_model(datasplit):\n",
    "    model = tweaked_model()\n",
    "    model = model.to(device)\n",
    "    optimizer = torch.optim.SGD(model.parameters(), lr=0.001, momentum=0.9)\n",
    "    scheduler = torch.optim.lr_scheduler.StepLR(optimizer, step_size=7, gamma=0.1)\n",
    "    since = time.time()\n",
    "    best_model_wts = copy.deepcopy(model.state_dict())\n",
    "    best_acc = 0.0\n",
    "\n",
    "    for epoch in range(NUM_EPOCHS):\n",
    "        for phase in ['train', 'val']:\n",
    "            if phase == 'train':\n",
    "                model.train()\n",
    "            else:\n",
    "                model.eval()\n",
    "\n",
    "            running_loss = 0.0\n",
    "            running_corrects = 0\n",
    "\n",
    "            for batch in datasplit[phase].loader:\n",
    "                inputs = batch['image'].to(device)\n",
    "                labels = batch['label'].to(device)\n",
    "\n",
    "                # zero the parameter gradients\n",
    "                optimizer.zero_grad()\n",
    "\n",
    "                # forward\n",
    "                # track history if only in train\n",
    "                with torch.set_grad_enabled(phase == 'train'):\n",
    "                    outputs = model(inputs)\n",
    "                    _, preds = torch.max(outputs, 1)\n",
    "                    loss = torch.nn.functional.cross_entropy(outputs, labels)\n",
    "                    if phase == 'train':\n",
    "                        loss.backward()\n",
    "                        optimizer.step()\n",
    "\n",
    "                # statistics\n",
    "                running_loss += loss.item() * inputs.size(0)\n",
    "                running_corrects += torch.sum(preds == labels.data)\n",
    "            if phase == 'train':\n",
    "                scheduler.step()\n",
    "\n",
    "            denom = datasplit[phase].size\n",
    "            epoch_loss = running_loss / denom\n",
    "            epoch_acc = running_corrects.double() / denom\n",
    "            # Too verbose.\n",
    "            #print('{} Loss: {:.5f} Acc: {:.5f}'.format(\n",
    "            #    phase, epoch_loss, epoch_acc))\n",
    "            if phase == 'val' and epoch_acc > best_acc:\n",
    "                best_acc = epoch_acc\n",
    "                best_model_wts = copy.deepcopy(model.state_dict())            \n",
    "\n",
    "    time_elapsed = time.time() - since\n",
    "    print('Training complete in {:.0f}m {:.0f}s'.format(\n",
    "        time_elapsed // 60, time_elapsed % 60))\n",
    "    return best_model_wts\n",
    "\n",
    "def run_training(force=False):\n",
    "    for (offset, radius), datasplit in datasplits.items():\n",
    "        save_path = SAVE_PATH_FMT.format(model_name=model_name,  offset=offset,  radius=radius)\n",
    "        if not force and pathlib.Path(save_path).exists():\n",
    "            continue\n",
    "        print(f'Training start. Offset {offset}, radius {radius}')\n",
    "        best_model_wts = train_new_model(datasplit)\n",
    "        torch.save(best_model_wts, save_path)\n",
    "run_training()"
   ]
  },
  {
   "cell_type": "markdown",
   "id": "845d0c47-90d3-421b-b683-85e094252f99",
   "metadata": {},
   "source": [
    "## 5. Investigate model\n",
    "For all datasets, a separate model has been trained. Now test each model on the test set and record the accuracy. The results are shown below."
   ]
  },
  {
   "cell_type": "code",
   "execution_count": 11,
   "id": "5be5c7d2-827f-4e32-b626-1b4f7d4c6009",
   "metadata": {},
   "outputs": [],
   "source": [
    "def inspect(): \n",
    "    acc = {}\n",
    "    for (offset, radius), datasplit in datasplits.items():\n",
    "        model = tweaked_model().to(device)\n",
    "        model.load_state_dict(\n",
    "            torch.load(SAVE_PATH_FMT.format(model_name=model_name, \n",
    "                                            radius=radius, offset=offset)))\n",
    "        corrects = 0\n",
    "        for batch in datasplit['test'].loader:\n",
    "            images = batch['image']\n",
    "            inputs = normalize_transform(images).to(device)\n",
    "            labels = batch['label'].to(device)\n",
    "            outputs = model(inputs)\n",
    "            _, preds = torch.max(outputs, 1)\n",
    "            corrects += torch.sum(preds == labels.data)\n",
    "        acc[(offset, radius)] = corrects / datasplit['test'].size\n",
    "    return acc\n",
    "\n",
    "if pathlib.Path(ACC_SAVE_PATH).exists():\n",
    "    with open(ACC_SAVE_PATH, 'rb') as f:\n",
    "        acc = pickle.load(f)\n",
    "else:\n",
    "    acc = inspect()\n",
    "    with open(ACC_SAVE_PATH, 'wb') as f:\n",
    "        pickle.dump(acc, f)"
   ]
  },
  {
   "cell_type": "code",
   "execution_count": 12,
   "id": "87b97e5b-0941-4e84-a3ab-f5f2a8cfb87e",
   "metadata": {},
   "outputs": [
    {
     "name": "stdout",
     "output_type": "stream",
     "text": [
      "Min 0.634, max: 0.977, mean: 0.916, var: 0.002\n",
      "\n"
     ]
    },
    {
     "data": {
      "image/png": "[encoded data removed]",
      "text/plain": [
       "<Figure size 1440x1440 with 2 Axes>"
      ]
     },
     "metadata": {
      "needs_background": "light"
     },
     "output_type": "display_data"
    }
   ],
   "source": [
    "def display_data():\n",
    "    arr = np.zeros((len(offsets), len(radii)))\n",
    "    xlabels = offsets\n",
    "    ylabels = radii\n",
    "    for odx, o in enumerate(offsets):\n",
    "        for rdx, r in enumerate(radii):\n",
    "            arr[odx, rdx] = acc[(o, r)]\n",
    "    fig, ax = plt.subplots(figsize=(20, 20))\n",
    "    cmap = 'gray' \n",
    "    cmap = 'viridis'\n",
    "    plt_img = ax.imshow(arr, cmap=cmap, vmin=0.5, vmax=1.0)\n",
    "    ax.invert_yaxis()\n",
    "    ax.set_xlabel('Center Cirle Radius (pixels)')\n",
    "    ax.set_ylabel('Center Circle Offset (pixels)', labelpad=20)\n",
    "    ax.set_title(f'{model_name.capitalize()} Classification Accuracy for Various\\nRed-Green Dataset Settings')\n",
    "    num_labels = 7\n",
    "    x_positions, x_labels = zip(*((i, radii[i]) for i in range(0, len(radii), 5)))\n",
    "    y_positions, y_labels = zip(*((i, offsets[i]) for i in range(0, len(offsets), 5)))\n",
    "    ax.xaxis.set_ticks(x_positions)\n",
    "    ax.xaxis.set_ticklabels(x_labels)\n",
    "    ax.yaxis.set_ticks(y_positions)\n",
    "    ax.yaxis.set_ticklabels(y_labels)\n",
    "    from mpl_toolkits.axes_grid1 import make_axes_locatable\n",
    "    divider = make_axes_locatable(ax)\n",
    "    cax = divider.append_axes(\"right\", size=\"5%\", pad=0.2)\n",
    "    fig.colorbar(plt_img, cax=cax)\n",
    "    cax.set_ylabel('Classification accuracy (\\%/100)', labelpad=28)\n",
    "    print(f'Min {np.min(arr):.3f}, max: {np.max(arr):.3f}, mean: {np.mean(arr):.3f}, var: {np.var(arr):.3f}\\n')\n",
    "display_data()    "
   ]
  },
  {
   "cell_type": "markdown",
   "id": "99aa4f1a-8b81-4eec-b3e6-111c4ebfdfb8",
   "metadata": {},
   "source": [
    "## 6. Discussion\n",
    "92% mean accuracy compared to 81% for the orange-brown dataset. I think an implication of these results is that if one is using this pretrained ResNet model via transfer-learning and the final layer is retrained only, then the model may have a harder time classifying if the decision depends on orange-brown distinctions rather than green-red distinctions. "
   ]
  }
 ],
 "metadata": {
  "kernelspec": {
   "display_name": "Python 3 (ipykernel)",
   "language": "python",
   "name": "python3"
  },
  "language_info": {
   "codemirror_mode": {
    "name": "ipython",
    "version": 3
   },
   "file_extension": ".py",
   "mimetype": "text/x-python",
   "name": "python",
   "nbconvert_exporter": "python",
   "pygments_lexer": "ipython3",
   "version": "3.7.11"
  }
 },
 "nbformat": 4,
 "nbformat_minor": 5
}
