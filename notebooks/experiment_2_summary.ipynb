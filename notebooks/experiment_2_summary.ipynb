{
 "cells": [
  {
   "cell_type": "markdown",
   "id": "13ea3e59-0883-49aa-823f-e5985451bc15",
   "metadata": {},
   "source": [
    "# Experiment 2. Summary.\n",
    "A high-level overview of progress in experiment 2."
   ]
  },
  {
   "cell_type": "markdown",
   "id": "e9f31981-01d3-48ef-bf18-cfb236c5646b",
   "metadata": {},
   "source": [
    "## Beginning with experiment 1.2\n",
    "Experiment 1.2, where the color of the lemon was changed to be orange, feels like the beginning of the \n",
    "ideas that experiment 2 is running with. I won't re-organise the experiments, but in retrospect, maybe it\n",
    "should have been the first experiment under experiment 2."
   ]
  },
  {
   "cell_type": "markdown",
   "id": "4e07dba8-ae7b-465d-b167-31beaa80cfd1",
   "metadata": {},
   "source": [
    "## Experiment 2.0.0 and 2.0.1 \n",
    "These two experiments investigated how illumination changes effect ResNet image classification.\n",
    "\n",
    "### Future directions\n",
    "Some of the questions raised by experiment 2 might be answered by pursuing some of the following\n",
    "topics.\n",
    "\n",
    "#### Data augmentation via relighting \n",
    "One idea is to see if image relighting can augment the ImageNet dataset in order to \n",
    "allow the neural network model to learn a lighting representation/become invariant to relighting.\n",
    "This avenue leads to many possible solutions, and the relighting problem itself is a field of \n",
    "research in itself.\n",
    "\n",
    "#### Re-run experiments with different models\n",
    "Another idea is to ask the same questions of different types of vision models, such as \n",
    "transformer based models.\n",
    "\n",
    "#### Try out test-time adaptation solutions\n",
    "I saw a paper that proposed a way to increase the generalizability of a model without\n",
    "changing the training process. \"Tent: Fully Test-Time Adaptation by Entropy Minimization\"\n",
    "https://arxiv.org/pdf/2006.10726.pdf. The illumination dataset used for experiment 2.0.0 is\n",
    "quite different to the types of datasets that this paper tested out, but their claim \n",
    "was broad enough to cover the illumination data set. It would be interesting to check if\n",
    "their claim really does hold.\n",
    "\n",
    "## Experiment 2.1\n",
    "Filter images before classification. \n",
    "\n",
    "### Ideas to try\n",
    "What is the average of EM reflectance? Take the spectrum information that Baden refers to for the mouse habitat, assume illumination from sun. Then for every object in scene, assume it to be this material. Then minus the low-pass image, some how account for both the expected material for filling in lost information when the illumination is some strong blue, or something like that, where we have lost a lot of reflectance information for the absent \n",
    "illumination spectrum.\n",
    "\n",
    "What to take as the average reflectance? Maybe take the inverse of the measured human minimum perceptual difference. Being able to sense a difference in spectrum would suggest that we\n",
    "encounter more objects within this range.\n",
    "\n",
    "Why are shadows gray? Find a shadow, then find the illumination?\n",
    "\n",
    "### Idea to try\n",
    "We don't need general relighting for classification. We need just a single very basic relighting. We need to imagine we just place a sun in the scene and relight everything that one\n",
    "time. Try to discount the lighting existing in the scene (while keeping any lights in the scene!). \n",
    "\n",
    "Can we represent every color in a colorspace that has one component as being the illumination? Maybe we need more than 3 components.\n",
    "\n"
   ]
  }
 ],
 "metadata": {
  "kernelspec": {
   "display_name": "Python 3",
   "language": "python",
   "name": "python3"
  },
  "language_info": {
   "codemirror_mode": {
    "name": "ipython",
    "version": 3
   },
   "file_extension": ".py",
   "mimetype": "text/x-python",
   "name": "python",
   "nbconvert_exporter": "python",
   "pygments_lexer": "ipython3",
   "version": "3.8.8"
  }
 },
 "nbformat": 4,
 "nbformat_minor": 5
}
