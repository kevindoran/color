{
 "cells": [
  {
   "cell_type": "markdown",
   "id": "b1431dab-6b26-40e1-9057-1cd9820f2b7f",
   "metadata": {},
   "source": [
    "# Experiment 3. Summary.\n"
   ]
  },
  {
   "cell_type": "markdown",
   "id": "d04782d7-e8f4-4c91-9105-36715f1abee2",
   "metadata": {},
   "source": [
    "TODO:\n",
    "    \n",
    "See if the paper \"An Upward-Facing Surface Appears Darker: The Role Played by the Light-From-Above Assumption in Lightness Perception\" can be an inspiration to find effects of higher level processing on color/illumination perception."
   ]
  },
  {
   "cell_type": "code",
   "execution_count": null,
   "id": "7a3845bb-da95-40b2-a791-7cabd3de312f",
   "metadata": {},
   "outputs": [],
   "source": []
  }
 ],
 "metadata": {
  "kernelspec": {
   "display_name": "Python 3",
   "language": "python",
   "name": "python3"
  },
  "language_info": {
   "codemirror_mode": {
    "name": "ipython",
    "version": 3
   },
   "file_extension": ".py",
   "mimetype": "text/x-python",
   "name": "python",
   "nbconvert_exporter": "python",
   "pygments_lexer": "ipython3",
   "version": "3.8.8"
  }
 },
 "nbformat": 4,
 "nbformat_minor": 5
}
