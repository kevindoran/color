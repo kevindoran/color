{
 "cells": [
  {
   "cell_type": "markdown",
   "id": "79d2ad01-037a-4483-b9f6-6d0d876c8bfb",
   "metadata": {},
   "source": [
    "# Experiment 1.4.1\n",
    "Experiment 1.4.1 repeats the same type of experiment as 1.4, but varies the dot size. If we see large variations in accuracy, this would be an indication that the experiment setup of 1.4 was potentially limiting the accuracy."
   ]
  },
  {
   "cell_type": "code",
   "execution_count": 1,
   "id": "5a59f077-4c7f-40ef-85c4-f162fe21c791",
   "metadata": {},
   "outputs": [],
   "source": [
    "import cv2\n",
    "import numpy as np\n",
    "from enum import Enum\n",
    "import colorsys\n",
    "import moviepy.editor as mpe\n",
    "import moviepy\n",
    "from typing import *\n",
    "import random\n",
    "import pandas as pd\n",
    "import json\n",
    "import torch\n",
    "from icecream import ic\n",
    "import nncolor as nc\n",
    "import nncolor.data\n",
    "import torchinfo\n",
    "import torchvision as tv\n",
    "import torchvision.datasets\n",
    "import torchvision.models\n",
    "import torchvision.transforms\n",
    "import torch.nn\n",
    "import torch.optim\n",
    "import time\n",
    "import copy\n",
    "import os\n",
    "import torch.hub\n",
    "from collections import namedtuple\n",
    "import ipyplot\n",
    "import matplotlib.pyplot as plt\n",
    "import matplotlib as mpl"
   ]
  },
  {
   "cell_type": "code",
   "execution_count": 2,
   "id": "d6ac3b5f-1735-4e65-b51d-d041d67abd1d",
   "metadata": {},
   "outputs": [],
   "source": [
    "presentation_mode = True\n",
    "md_export_mode = False\n",
    "if presentation_mode:\n",
    "    import warnings\n",
    "    warnings.filterwarnings('ignore')\n",
    "    mpl.rcParams.update({'font.size': 20})\n",
    "    mpl.rcParams.update({'axes.labelsize': 20})\n",
    "    mpl.rcParams.update({'text.usetex': False})"
   ]
  },
  {
   "cell_type": "code",
   "execution_count": 3,
   "id": "d5b71a61-6fa2-4eb2-8b7e-d4ee091c94bd",
   "metadata": {
    "tags": []
   },
   "outputs": [],
   "source": [
    "import IPython\n",
    "def imshow(img):\n",
    "    \"\"\"Show image. \n",
    "    \n",
    "    Image is a HWC numpy array with values in the range 0-1.\"\"\"\n",
    "    img = img*255\n",
    "    img = cv2.cvtColor(img, cv2.COLOR_RGB2BGR)\n",
    "    # cv2 imencode takes images in HWC dimension order.\n",
    "    _,ret = cv2.imencode('.jpg', img) \n",
    "    i = IPython.display.Image(data=ret)\n",
    "    IPython.display.display(i) \n",
    "    \n",
    "    \n",
    "def imlist(images, labels=None, use_tabs=False):\n",
    "    if md_export_mode:\n",
    "        print(\"Skipping ipyplot image print for markdown export. The output\"\n",
    "              \" produces HTML that either Jupyter Lab fails to export correctly,\"\n",
    "              \" or Hugo fails to render correctly. Skipping for now.\")\n",
    "        return\n",
    "    if use_tabs:\n",
    "        ipyplot.plot_class_tabs(images, labels, max_imgs_per_tab=300)\n",
    "    else:\n",
    "        ipyplot.plot_images(images, labels)"
   ]
  },
  {
   "cell_type": "markdown",
   "id": "0fd5833b-9a67-4180-a0ab-6671ced4f801",
   "metadata": {},
   "source": [
    "## 1. Notebook constants\n",
    "Variables used as constants throughout the notebook."
   ]
  },
  {
   "cell_type": "code",
   "execution_count": 4,
   "id": "a14e9fa8-2bff-481c-9b93-036eef8c74a0",
   "metadata": {},
   "outputs": [],
   "source": [
    "# Choose CPU or GPU.\n",
    "device = torch.device('cuda:0')\n",
    "#device = \"cpu\"\n",
    "\n",
    "# Choose small or large (standard) model variant\n",
    "model_name = \"resnet18\"\n",
    "#model_name = 'resnet50'\n",
    "def model_fctn():\n",
    "    if model_name == 'resnet18':\n",
    "        return tv.models.resnet18(pretrained=True)\n",
    "    elif model_name == 'resnet50':\n",
    "        return tv.models.resnet50(pretrained=True)\n",
    "resnet_model = model_fctn()\n",
    "\n",
    "IMG_SHAPE = (224, 224, 3)\n",
    "BATCH_SIZE = 4\n",
    "NUM_FC_CHANNELS = 512 if model_name == 'resnet18' else 2048"
   ]
  },
  {
   "cell_type": "code",
   "execution_count": 5,
   "id": "b5793dff-4687-4624-afca-096a9fc700c5",
   "metadata": {},
   "outputs": [],
   "source": [
    "GRID_SHAPE = (1, 1)\n",
    "CENTER_ACTIVATION = 3 # position (3, 3) in grid of 7x7\n",
    "NUM_CELLS = 1\n",
    "cell_shape = nc.data.cell_shape(GRID_SHAPE, IMG_SHAPE)\n",
    "assert np.array_equal(cell_shape, IMG_SHAPE[0:-1])"
   ]
  },
  {
   "cell_type": "markdown",
   "id": "74eb1270-5a28-4f18-ad6c-92615139f8b6",
   "metadata": {},
   "source": [
    "## 1. Dataset\n",
    "Inspect some of the images. \n",
    "Four images are shown below:\n",
    "\n",
    " 1. using the smallest radius\n",
    " 2. using a mid-sized radius\n",
    " 3. using a radius just small enough to glimpse a background.\n",
    " 4. using the largest radius"
   ]
  },
  {
   "cell_type": "code",
   "execution_count": 6,
   "id": "ca910e35-25d1-47f0-82af-1f60609a22c7",
   "metadata": {},
   "outputs": [
    {
     "data": {
      "image/png": "[encoded data removed]",
      "text/plain": [
       "<IPython.core.display.Image object>"
      ]
     },
     "metadata": {},
     "output_type": "display_data"
    },
    {
     "data": {
      "image/png": "[encoded data removed]",
      "text/plain": [
       "<IPython.core.display.Image object>"
      ]
     },
     "metadata": {},
     "output_type": "display_data"
    },
    {
     "data": {
      "image/png": "[encoded data removed]",
      "text/plain": [
       "<IPython.core.display.Image object>"
      ]
     },
     "metadata": {},
     "output_type": "display_data"
    },
    {
     "data": {
      "image/png": "[encoded data removed]",
      "text/plain": [
       "<IPython.core.display.Image object>"
      ]
     },
     "metadata": {},
     "output_type": "display_data"
    }
   ],
   "source": [
    "radii = [1, 51, 151, 166]\n",
    "for r in radii:\n",
    "    train_ds, _, _ = nc.data.train_test_val_split(nc.data.exp_1_1_data_filtered,\n",
    "                                                  dot_radius=r,\n",
    "                                                  grid_shape=GRID_SHAPE)\n",
    "    imshow(train_ds[2]['image'])"
   ]
  },
  {
   "cell_type": "markdown",
   "id": "cd7ddd79-71de-4774-8aa2-30513288b15e",
   "metadata": {},
   "source": [
    "## 4. Customize the model\n",
    "We want to have a model with the fully connected layer removed, and for that, it seems easiest to subclass and override."
   ]
  },
  {
   "cell_type": "code",
   "execution_count": 7,
   "id": "c4108802-2a4a-4124-96a2-96c482515d68",
   "metadata": {},
   "outputs": [],
   "source": [
    "class PoolHeadResNet(tv.models.ResNet):\n",
    "    def __init__(self, train_all_params=False, *args, **kwargs):\n",
    "        super().__init__(*args, **kwargs)\n",
    "        num_classes = nc.data.NUM_CLASSES\n",
    "        # First, disable all other parameters.\n",
    "        if not train_all_params:\n",
    "            for param in self.parameters():\n",
    "                param.requires_grad = False\n",
    "        # A 1x1 convolution, representing effectively a fully connected, sub-batched at 7x7.\n",
    "        self.fc2 = torch.nn.Conv2d(in_channels=NUM_FC_CHANNELS, out_channels=num_classes, kernel_size=1,stride=1)\n",
    "        \n",
    "    def _forward_impl(self, x: torch.Tensor) -> torch.Tensor:\n",
    "        # See note [TorchScript super()]\n",
    "        x = self.conv1(x)\n",
    "        x = self.bn1(x)\n",
    "        x = self.relu(x)\n",
    "        x = self.maxpool(x)\n",
    "\n",
    "        x = self.layer1(x)\n",
    "        x = self.layer2(x)\n",
    "        x = self.layer3(x)\n",
    "        x = self.layer4(x)\n",
    "        # Stop above.\n",
    "        #x = self.avgpool(x)\n",
    "        # x = torch.flatten(x, 1)\n",
    "        # x = self.fc(x)\n",
    "        x = self.fc2(x)\n",
    "        return x\n",
    "    \n",
    "train_all_params = True\n",
    "edited_resnet_model = None\n",
    "if model_name == 'resnet18':\n",
    "    edited_resnet_model = PoolHeadResNet(train_all_params, tv.models.resnet.BasicBlock, [2, 2, 2, 2])\n",
    "elif model_name == 'resnet50':\n",
    "    edited_resnet_model = PoolHeadResNet(train_all_params, tv.models.resnet.Bottleneck, [3, 4, 6, 3])\n",
    "else:\n",
    "    raise Exception('Not supported')\n",
    "state = torch.hub.load_state_dict_from_url(tv.models.resnet.model_urls[model_name])\n",
    "edited_resnet_model.load_state_dict(state, strict=False);"
   ]
  },
  {
   "cell_type": "markdown",
   "id": "8e63e10d-fe8a-4d75-864a-fd65082b560e",
   "metadata": {},
   "source": [
    "### 5.3 Dot only\n",
    "This loss is a MLE loss that only considers the output unit that is associated with the\n",
    "dot position. All other outputs are ignored. \n",
    "\n",
    "An obvious issue with this loss is that there is no incentive for the model to correctly\n",
    "classify the background color. This is a loss that should give the model great leniency \n",
    "towards maximizing accuracy of the dot color classification at the expense of the background\n",
    "color classification."
   ]
  },
  {
   "cell_type": "markdown",
   "id": "22943a2a-3f17-40de-8665-619629f9c0b6",
   "metadata": {},
   "source": [
    "## 6. Training\n",
    "Training loop."
   ]
  },
  {
   "cell_type": "code",
   "execution_count": 8,
   "id": "695ad9ee-ac84-4971-887f-ada46c1c4631",
   "metadata": {},
   "outputs": [],
   "source": [
    "# Copied from: https://pytorch.org/tutorials/beginner/transfer_learning_tutorial.html\n",
    "\n",
    "# Data augmentation and normalization\n",
    "normalize_transform =  tv.transforms.Normalize([0.485, 0.456, 0.406], [0.229, 0.224, 0.225])\n",
    "to_CHW_tensor_transform = tv.transforms.ToTensor()\n",
    "data_transform = tv.transforms.Compose([to_CHW_tensor_transform, normalize_transform])\n",
    "def train_test_val(radius):\n",
    "    # tv.transforms.ToTensor will swap the dimensions from HWC to CHW\n",
    "    train_ds, test_ds, val_ds = nc.data.train_test_val_split(nc.data.exp_1_1_data_filtered,\n",
    "                                                            dot_radius=radius,\n",
    "                                                            grid_shape=GRID_SHAPE)\n",
    "    DataSplit = namedtuple('DataSplit', ['ds', 'loader', 'size'])\n",
    "    splits = {\n",
    "        'train': DataSplit(train_ds, torch.utils.data.DataLoader(train_ds, batch_size=BATCH_SIZE, num_workers=4), len(train_ds)),\n",
    "        'test':  DataSplit(test_ds,  torch.utils.data.DataLoader(test_ds, batch_size=BATCH_SIZE, num_workers=4), len(test_ds)),\n",
    "        'val':   DataSplit(val_ds,   torch.utils.data.DataLoader(val_ds, batch_size=BATCH_SIZE, num_workers=4), len(val_ds))\n",
    "    }\n",
    "    splits['val'].ds.transform = data_transform\n",
    "    splits['train'].ds.transform = data_transform\n",
    "    splits['test'].ds.transform = to_CHW_tensor_transform\n",
    "    return splits\n",
    "\n",
    "def train_model(model, datasplits, optimizer, scheduler, num_epochs):\n",
    "    since = time.time()\n",
    "\n",
    "    best_model_wts = copy.deepcopy(model.state_dict())\n",
    "    best_acc = 0.0\n",
    "\n",
    "    for epoch in range(num_epochs):\n",
    "        print('Epoch {}/{}'.format(epoch, num_epochs - 1))\n",
    "        print('-' * 10)\n",
    "\n",
    "        for phase in ['train', 'val']:\n",
    "            if phase == 'train':\n",
    "                model.train()  # Set model to training mode\n",
    "            else:\n",
    "                model.eval()   # Set model to evaluate mode\n",
    "\n",
    "            running_loss = 0.0\n",
    "            running_corrects = 0\n",
    "\n",
    "            # Iterate over data.\n",
    "            #for inputs, labels in dataloaders[phase]:\n",
    "            for batch in datasplits[phase].loader:\n",
    "                inputs = batch['image'].to(device)\n",
    "                labels = batch['label'].to(device)\n",
    "\n",
    "                # zero the parameter gradients\n",
    "                optimizer.zero_grad()\n",
    "\n",
    "                # forward\n",
    "                # track history if only in train\n",
    "                with torch.set_grad_enabled(phase == 'train'):\n",
    "                    outputs = model(inputs)\n",
    "                    _, preds = torch.max(outputs, 1)\n",
    "                    outputs = outputs[:, :, CENTER_ACTIVATION, CENTER_ACTIVATION]\n",
    "                    loss = torch.nn.functional.cross_entropy(outputs, labels)\n",
    "                    if phase == 'train':\n",
    "                        loss.backward()\n",
    "                        optimizer.step()\n",
    "\n",
    "                # statistics\n",
    "                running_loss += loss.item() * inputs.size(0)\n",
    "                running_corrects += torch.sum(labels == outputs)\n",
    "            if phase == 'train':\n",
    "                scheduler.step()\n",
    "\n",
    "            denom = datasplits[phase].size\n",
    "            epoch_loss = running_loss / denom\n",
    "            epoch_acc = running_corrects.double() / denom\n",
    "\n",
    "            print('{} Loss: {:.5f} Acc: {:.5f}'.format(\n",
    "                phase, epoch_loss, epoch_acc))\n",
    "        print()\n",
    "\n",
    "    time_elapsed = time.time() - since\n",
    "    print('Training complete in {:.0f}m {:.0f}s'.format(\n",
    "        time_elapsed // 60, time_elapsed % 60))\n",
    "    return model"
   ]
  },
  {
   "cell_type": "markdown",
   "id": "6746b3d0-34dc-43e9-9d31-aea7a1f3a956",
   "metadata": {},
   "source": [
    "## 7. Investigate model\n",
    "To explore the nature of the predictions, I want an array with dimensions (label, prediction) and values are tallies. Accuracy for each label is then the diagonal divided by the sum along the prediction dimension. Overall accuracy is the sum along the diagonal divided by the complete sum. "
   ]
  },
  {
   "cell_type": "code",
   "execution_count": 9,
   "id": "623fe354-3af6-4899-a2db-ab59a52acf1d",
   "metadata": {},
   "outputs": [],
   "source": [
    "def test_model(model, dataloaders):\n",
    "    model.eval()\n",
    "    accuracy = None\n",
    "    accuracy_details = torch.zeros((nc.data.NUM_CLASSES, nc.data.NUM_CLASSES)).to(device)\n",
    "    ones = torch.ones(BATCH_SIZE, dtype=torch.float).to(device)\n",
    "    for batch in dataloaders['test'].loader:\n",
    "        images = batch['image']\n",
    "        inputs = normalize_transform(images).to(device)\n",
    "        labels = batch['label'].to(device)\n",
    "        outputs = model(inputs)\n",
    "        _, preds = torch.max(outputs, 1)\n",
    "        \n",
    "        # Dot accuracy breakdown.\n",
    "        center_pred = preds[:, CENTER_ACTIVATION, CENTER_ACTIVATION]\n",
    "        # Linear index of the confusion matrix.\n",
    "        linear_indexes = labels * nc.data.NUM_CLASSES + center_pred\n",
    "        accuracy_details.put_(linear_indexes, ones, accumulate=True)\n",
    "        \n",
    "    tally = torch.sum(accuracy_details, dim=1)\n",
    "    tally = tally.unsqueeze(1)\n",
    "    accuracy_details_norm = accuracy_details / tally\n",
    "        \n",
    "    def print_acc_array(arr: np.ndarray, title=''):\n",
    "        labels = nc.data.COLOR_ID_TO_LABEL.keys()\n",
    "        fig = plt.figure()\n",
    "        ax = fig.add_subplot(111)\n",
    "        ax.set_title(title)\n",
    "        cax = ax.imshow(arr, cmap='viridis', vmin=0.0, vmax=1.0)\n",
    "        fig.colorbar(cax)\n",
    "        ax.set_xticks(np.arange(len(labels)))\n",
    "        ax.set_yticks(np.arange(len(labels)))\n",
    "        ax.set_yticklabels(labels)\n",
    "        ax.set_xticklabels(labels)\n",
    "        ax.set_ylabel('actual color')\n",
    "        ax.set_xlabel('predicted color')\n",
    "        plt.show()\n",
    "    print_acc_array(accuracy_details_norm.cpu().numpy(), \"Test set confustion matrix\")\n",
    "    print(\"Test set confusion matrix data:\")\n",
    "    print(accuracy_details_norm)\n",
    "    print(\"Test set unnormalized confusion matrix data:\")\n",
    "    print(accuracy_details)\n",
    "   "
   ]
  },
  {
   "cell_type": "code",
   "execution_count": 10,
   "id": "fc1fbfe0-d2e3-4811-8a23-82264cd08e53",
   "metadata": {},
   "outputs": [
    {
     "data": {
      "text/plain": [
       "array([[[ 0,  1,  2],\n",
       "        [ 6,  7,  8]],\n",
       "\n",
       "       [[ 0, -1, -2],\n",
       "        [-6, -7, -8]]])"
      ]
     },
     "execution_count": 10,
     "metadata": {},
     "output_type": "execute_result"
    }
   ],
   "source": [
    "# Testing out numpy indexing.\n",
    "a = np.array([\n",
    "    [[0, 1, 2], [3, 4, 5], [6, 7, 8], [9, 10, 11]],\n",
    "    [[-0, -1, -2], [-3, -4, -5], [-6, -7, -8], [-9, -10, -11]]])\n",
    "a[:,[0,2], :]"
   ]
  },
  {
   "cell_type": "code",
   "execution_count": 11,
   "id": "3cf50cf4-737e-4f87-9602-d44baf85662a",
   "metadata": {},
   "outputs": [],
   "source": [
    "def test_all_models(models):\n",
    "    label_count = nc.data.color_counts(train_test_val(radius=1)['test'].ds._labelled_colors)\n",
    "    \n",
    "    radius_label_ans = torch.zeros((len(models), nc.data.NUM_CLASSES, nc.data.NUM_CLASSES))\n",
    "    for idx,(radius,model) in enumerate(models.items()):\n",
    "        model.eval()\n",
    "        test_ds_loader = train_test_val(radius)['test'].loader\n",
    "        \n",
    "        accuracy = None\n",
    "        accuracy_details = torch.zeros((nc.data.NUM_CLASSES, nc.data.NUM_CLASSES)).to(device)\n",
    "        ones = torch.ones(BATCH_SIZE, dtype=torch.float).to(device)\n",
    "        for batch in test_ds_loader:\n",
    "            images = batch['image']\n",
    "            inputs = normalize_transform(images).to(device)\n",
    "            labels = batch['label'].to(device)\n",
    "            outputs = model(inputs)\n",
    "            _, preds = torch.max(outputs, 1)\n",
    "\n",
    "            # Dot accuracy breakdown.\n",
    "            center_pred = preds[:, CENTER_ACTIVATION, CENTER_ACTIVATION]\n",
    "            # Linear index of the confusion matrix.\n",
    "            linear_indexes = labels * nc.data.NUM_CLASSES + center_pred\n",
    "            accuracy_details.put_(linear_indexes, ones, accumulate=True)\n",
    "\n",
    "        tally = torch.sum(accuracy_details, dim=1)\n",
    "        tally = tally.unsqueeze(1)\n",
    "        #accuracy_details_norm = accuracy_details / tally\n",
    "        radius_label_ans[idx] = accuracy_details\n",
    "        \n",
    "    # Plot\n",
    "    radius_label_ans = radius_label_ans.cpu().numpy()\n",
    "    ic(radius_label_ans.shape)\n",
    "    x = models.keys()\n",
    "    ys_accuracy = (np.diagonal(radius_label_ans, axis1=1, axis2=2) / label_count)[:, [0, 1, 3]]\n",
    "    #ys = radius_label_ans[:,[0, 1, 3]]\n",
    "    #y = radius_label_ans[:,1]\n",
    "    #y = radius_label_ans[:,3]\n",
    "    fig, (ax1, ax2) = plt.subplots(2)\n",
    "    ax1.plot(x, ys_accuracy)\n",
    "    for i,j in enumerate(ax1.lines):\n",
    "        j.set_color(nc.data.plot_colors()[[0, 1, 3]][i])\n",
    "    ax2.plot(x, ys_accuracy.min(axis=1))\n",
    "#test_all_models(models)"
   ]
  },
  {
   "cell_type": "markdown",
   "id": "5b8e1f5f-3357-4824-9923-6d6e44b8b05b",
   "metadata": {},
   "source": [
    "## 7.2 Debug specific samples\n",
    "The following methods are used to check how a model behaves for a specific image. "
   ]
  },
  {
   "cell_type": "code",
   "execution_count": 12,
   "id": "2ae84d00-ae7f-4145-8d4a-9d8d2c49b3be",
   "metadata": {},
   "outputs": [],
   "source": [
    "def debug_img(model, img):\n",
    "        input_ = torch.unsqueeze(normalize_transform(img), 0).to(device)\n",
    "        output = model(input_)\n",
    "        ans = torch.argmax(output, 1)[0]\n",
    "        ans = ans.cpu().detach().numpy()\n",
    "        img = img.numpy().swapaxes(0, -1)\n",
    "        # cv2 draw has some issues if numpy arrays are not continuous,\n",
    "        # and to fix spurious issues, copying seems to work.\n",
    "        im_print = img.copy()\n",
    "        #im_print *= 255\n",
    "        nc.data.draw_overlay(im_print, ans)\n",
    "        return im_print\n",
    "\n",
    "    \n",
    "def showfilter(model):\n",
    "    filter_len = 512 if model_name == 'resnet18' else 2048\n",
    "    cut_size = 128\n",
    "    cuts = int(filter_len / cut_size)\n",
    "    for i in range(cuts):\n",
    "        w = model.fc2.weight.cpu().detach().numpy()\n",
    "        w = np.squeeze(w)\n",
    "        plt.matshow(w[:,i*cut_size:(i+1)*cut_size])\n",
    "        plt.title(f'Fully-connected layer filter. Block part {i}/{cuts}')\n",
    "        \n",
    "        \n",
    "def debug_model(model, test_ds):\n",
    "    showfilter(model)\n",
    "    # 3: hard\n",
    "    # 9: blank\n",
    "    # 10: orange\n",
    "    # 14: easy, but machine performs poorly.\n",
    "    interesting_samples = [test_ds[i] for i in (3, 8, 9, 10, 12, 13, 14, 17)]\n",
    "    #ic(val_ds[0]['image'].shape)\n",
    "    images = []\n",
    "    labels = []\n",
    "    print('Interesting examples:')\n",
    "    for s in interesting_samples:\n",
    "        im = debug_img(model, s['image'])\n",
    "        images.append(im)\n",
    "        labels.append(s['label'])\n",
    "    imlist(images, labels)\n",
    "    \n",
    "    print('Other examples:')\n",
    "    print(\"(Tab by correct label. The grids are the model outputs)\")\n",
    "    num_samples = 50\n",
    "    images, labels = zip(*map(lambda s: (debug_img(model, s['image']), s['label']), \n",
    "                              (test_ds[s] for s in range(num_samples))))\n",
    "    imlist(images, labels, use_tabs=True)"
   ]
  },
  {
   "cell_type": "markdown",
   "id": "136c5a2f-bb17-4574-b23c-0216622b95cf",
   "metadata": {},
   "source": [
    "### 8. Run Experiment. \n",
    "Train one of two models (resnet18 or resnet50) with 4 types of losses with gradient descent. Test the accuracy of each model-loss pair."
   ]
  },
  {
   "cell_type": "code",
   "execution_count": 17,
   "id": "9637c389-0a24-46b8-ba24-0637b45dc539",
   "metadata": {
    "tags": []
   },
   "outputs": [
    {
     "name": "stderr",
     "output_type": "stream",
     "text": [
      "ic| radius_label_ans.shape: (119, 4, 4)\n"
     ]
    },
    {
     "data": {
      "image/png": "[encoded data removed]",
      "text/plain": [
       "<Figure size 432x288 with 2 Axes>"
      ]
     },
     "metadata": {
      "needs_background": "light"
     },
     "output_type": "display_data"
    }
   ],
   "source": [
    "models = {}\n",
    "def testall(test_individual=True, pretrained=True):\n",
    "    #dot_radii = range(1, 166+1, 5)\n",
    "    dot_radii = range(1, 120, 1)\n",
    "    num_epochs = 6\n",
    "    for radius in dot_radii:\n",
    "        save_path = './resources/exp_1_4_1/{model_name}_{radius}_model_save'\n",
    "        model = copy.deepcopy(edited_resnet_model).to(device)\n",
    "        if pretrained:\n",
    "            model.load_state_dict(torch.load(save_path.format(model_name=model_name, radius=radius)))\n",
    "        else:\n",
    "            datasets = train_test_val(radius)\n",
    "            optimizer_ft = torch.optim.SGD(model.parameters(), lr=0.001, momentum=0.9, weight_decay=0.01)\n",
    "            exp_lr_scheduler = torch.optim.lr_scheduler.ExponentialLR(optimizer_ft, gamma=0.9)\n",
    "            model = train_model(model, datasets, optimizer_ft, exp_lr_scheduler, num_epochs=num_epochs)\n",
    "            torch.save(model.state_dict(), save_path.format(model_name=model_name, radius=radius))\n",
    "        models[radius] = model\n",
    "        if test_individual:\n",
    "            print(f\"Testing radius: {radius}\")\n",
    "            test_model(models[radius], datasets)\n",
    "    test_all_models(models)\n",
    "    \n",
    "testall(test_individual=False)"
   ]
  },
  {
   "cell_type": "code",
   "execution_count": 14,
   "id": "4fd1012b-f276-4dee-a854-10dcfac18493",
   "metadata": {},
   "outputs": [
    {
     "ename": "KeyError",
     "evalue": "51",
     "output_type": "error",
     "traceback": [
      "\u001b[0;31m---------------------------------------------------------------------------\u001b[0m",
      "\u001b[0;31mKeyError\u001b[0m                                  Traceback (most recent call last)",
      "\u001b[0;32m<ipython-input-14-e041fc925869>\u001b[0m in \u001b[0;36m<module>\u001b[0;34m\u001b[0m\n\u001b[1;32m      1\u001b[0m \u001b[0;31m# Investigate one of the models in more detail.\u001b[0m\u001b[0;34m\u001b[0m\u001b[0;34m\u001b[0m\u001b[0;34m\u001b[0m\u001b[0m\n\u001b[1;32m      2\u001b[0m \u001b[0mradius\u001b[0m \u001b[0;34m=\u001b[0m \u001b[0;36m51\u001b[0m\u001b[0;34m\u001b[0m\u001b[0;34m\u001b[0m\u001b[0m\n\u001b[0;32m----> 3\u001b[0;31m \u001b[0mdebug_model\u001b[0m\u001b[0;34m(\u001b[0m\u001b[0mmodels\u001b[0m\u001b[0;34m[\u001b[0m\u001b[0mradius\u001b[0m\u001b[0;34m]\u001b[0m\u001b[0;34m,\u001b[0m \u001b[0mtrain_test_val\u001b[0m\u001b[0;34m(\u001b[0m\u001b[0mradius\u001b[0m\u001b[0;34m)\u001b[0m\u001b[0;34m[\u001b[0m\u001b[0;34m'test'\u001b[0m\u001b[0;34m]\u001b[0m\u001b[0;34m.\u001b[0m\u001b[0mds\u001b[0m\u001b[0;34m)\u001b[0m\u001b[0;34m\u001b[0m\u001b[0;34m\u001b[0m\u001b[0m\n\u001b[0m\u001b[1;32m      4\u001b[0m \u001b[0;31m#test_ds._labelled_colors.sort(key=lambda a:a[0])\u001b[0m\u001b[0;34m\u001b[0m\u001b[0;34m\u001b[0m\u001b[0;34m\u001b[0m\u001b[0m\n",
      "\u001b[0;31mKeyError\u001b[0m: 51"
     ]
    }
   ],
   "source": [
    "# Investigate one of the models in more detail.\n",
    "radius = 51\n",
    "debug_model(models[radius], train_test_val(radius)['test'].ds)\n",
    "#test_ds._labelled_colors.sort(key=lambda a:a[0])"
   ]
  },
  {
   "cell_type": "markdown",
   "id": "f58901a7-44cb-423c-a30e-fdc8f42d71b1",
   "metadata": {},
   "source": [
    "## 9. Results\n",
    "Low accuracy is some evidence to suggest that no enough information reaches the neurons in the target layer. However, there are a number of reasons why this evidence is quite weak.\n",
    "\n",
    "## 9.1 Experiment issues\n",
    "I have a number of concerns:\n",
    "\n",
    "1. the dataset feels very small. This became especially obvious once the test set was shaved off and brown getting only XX different color codes.\n",
    "2. I don't have any evidence that my mapping between dots and activations is effective. I need to check which image pixels feed into which activations, and to try place dots in the center of these calculated windows. A poor correspondence could result in the filter needing to locate orange/brown in a different position relative to its window depending on which activation it is calculating.\n",
    "3. the distinction of orange/brown relies to relative brightnesses, and so, it seems likely that the size of the center dot is important. I have scaled down the dot without checking to see if the dataset classifications are affected.\n",
    "4. The model uses MLE via softmax activations. Nothing inherently wrong with this choice; however, it doesn't take advantage of an important assumption: I think orange and brown can be linearly separable on a single dimension. Projecting the 2048 features (or 512 for resnet18) onto two dimensions (weight + bias) might constrain the model in a useful way. If high accuracy can be achieved under this constraint, then this might be used to reverse engineer the model to extract a color dimension (the dimension for \"related\" colors). \n",
    "\n",
    "## 10. Next steps\n",
    "Some useful investigations to do next:\n",
    "\n",
    "1. find a model for orange/brown such that we can generate the color pairs more freely, without being restricted to the dataset. This tackles issue #1 above.\n",
    "2. Investigate the window of the input image that contributes to each activation. This tackles issue #2 above.\n",
    "3. Another way of investigating issue #2 is to restrict the classification to only 1 of the 49 activations and then check what accuracy we get. Extend 1 to 3x3 then 4x4 etc.\n",
    "we have 99% accuracy. Looking at the accuracy metric shows that it's not very useful: an accuracy of 48/49=98% can be achieved by just returning 0 for every square. To get a better idea of the performance, let's take a look at some specific examples.\n",
    "4. Implement an alternative dataset, such as red-blue color distinction. This dataset will be useful to form a comparison and to help find any possible bugs.\n",
    "5. Follow up of issue #4."
   ]
  },
  {
   "cell_type": "code",
   "execution_count": null,
   "id": "62339eb4-1328-4146-9f87-cd64dc1c2e86",
   "metadata": {},
   "outputs": [],
   "source": []
  }
 ],
 "metadata": {
  "kernelspec": {
   "display_name": "Python 3",
   "language": "python",
   "name": "python3"
  },
  "language_info": {
   "codemirror_mode": {
    "name": "ipython",
    "version": 3
   },
   "file_extension": ".py",
   "mimetype": "text/x-python",
   "name": "python",
   "nbconvert_exporter": "python",
   "pygments_lexer": "ipython3",
   "version": "3.8.8"
  }
 },
 "nbformat": 4,
 "nbformat_minor": 5
}
