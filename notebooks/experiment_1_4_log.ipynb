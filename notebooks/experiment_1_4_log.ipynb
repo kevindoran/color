{
 "cells": [
  {
   "cell_type": "markdown",
   "id": "2c47bc31-77a1-4439-a449-a7766ccf7644",
   "metadata": {},
   "source": [
    "# Experiment 1.4\n",
    "Carrying on from experiment 1.3. We will repeat the idea of 1.3, but chop off the output side of the network to expose the pre-pooled activations. This is a process of increasing the resolution that we are investigating.\n",
    "\n",
    "First, let's double check the model summary."
   ]
  },
  {
   "cell_type": "code",
   "execution_count": 1,
   "id": "5a59f077-4c7f-40ef-85c4-f162fe21c791",
   "metadata": {},
   "outputs": [],
   "source": [
    "import cv2\n",
    "import numpy as np\n",
    "from enum import Enum\n",
    "import colorsys\n",
    "import moviepy.editor as mpe\n",
    "import moviepy\n",
    "from typing import *\n",
    "import random\n",
    "import pandas as pd\n",
    "import json\n",
    "import torch\n",
    "from icecream import ic\n",
    "import nncolor as nc\n",
    "import nncolor.data\n",
    "import torchinfo\n",
    "import torchvision as tv\n",
    "import torchvision.datasets\n",
    "import torchvision.models\n",
    "import torchvision.transforms\n",
    "import torch.nn\n",
    "import torch.optim\n",
    "import time\n",
    "import copy\n",
    "import os\n",
    "import torch.hub"
   ]
  },
  {
   "cell_type": "code",
   "execution_count": 2,
   "id": "2e0e41ab-b757-4124-abfa-e48c2750c2a2",
   "metadata": {},
   "outputs": [],
   "source": [
    "model_ft = tv.models.resnet18(pretrained=True)"
   ]
  },
  {
   "cell_type": "code",
   "execution_count": 3,
   "id": "550ede32-bf54-43e8-88c0-8e1602fc6704",
   "metadata": {},
   "outputs": [
    {
     "data": {
      "text/plain": [
       "==========================================================================================\n",
       "Layer (type:depth-idx)                   Output Shape              Param #\n",
       "==========================================================================================\n",
       "ResNet                                   --                        --\n",
       "├─Conv2d: 1-1                            [1, 64, 112, 112]         9,408\n",
       "├─BatchNorm2d: 1-2                       [1, 64, 112, 112]         128\n",
       "├─ReLU: 1-3                              [1, 64, 112, 112]         --\n",
       "├─MaxPool2d: 1-4                         [1, 64, 56, 56]           --\n",
       "├─Sequential: 1-5                        [1, 64, 56, 56]           --\n",
       "│    └─BasicBlock: 2-1                   [1, 64, 56, 56]           --\n",
       "│    │    └─Conv2d: 3-1                  [1, 64, 56, 56]           36,864\n",
       "│    │    └─BatchNorm2d: 3-2             [1, 64, 56, 56]           128\n",
       "│    │    └─ReLU: 3-3                    [1, 64, 56, 56]           --\n",
       "│    │    └─Conv2d: 3-4                  [1, 64, 56, 56]           36,864\n",
       "│    │    └─BatchNorm2d: 3-5             [1, 64, 56, 56]           128\n",
       "│    │    └─ReLU: 3-6                    [1, 64, 56, 56]           --\n",
       "│    └─BasicBlock: 2-2                   [1, 64, 56, 56]           --\n",
       "│    │    └─Conv2d: 3-7                  [1, 64, 56, 56]           36,864\n",
       "│    │    └─BatchNorm2d: 3-8             [1, 64, 56, 56]           128\n",
       "│    │    └─ReLU: 3-9                    [1, 64, 56, 56]           --\n",
       "│    │    └─Conv2d: 3-10                 [1, 64, 56, 56]           36,864\n",
       "│    │    └─BatchNorm2d: 3-11            [1, 64, 56, 56]           128\n",
       "│    │    └─ReLU: 3-12                   [1, 64, 56, 56]           --\n",
       "├─Sequential: 1-6                        [1, 128, 28, 28]          --\n",
       "│    └─BasicBlock: 2-3                   [1, 128, 28, 28]          --\n",
       "│    │    └─Conv2d: 3-13                 [1, 128, 28, 28]          73,728\n",
       "│    │    └─BatchNorm2d: 3-14            [1, 128, 28, 28]          256\n",
       "│    │    └─ReLU: 3-15                   [1, 128, 28, 28]          --\n",
       "│    │    └─Conv2d: 3-16                 [1, 128, 28, 28]          147,456\n",
       "│    │    └─BatchNorm2d: 3-17            [1, 128, 28, 28]          256\n",
       "│    │    └─Sequential: 3-18             [1, 128, 28, 28]          8,448\n",
       "│    │    └─ReLU: 3-19                   [1, 128, 28, 28]          --\n",
       "│    └─BasicBlock: 2-4                   [1, 128, 28, 28]          --\n",
       "│    │    └─Conv2d: 3-20                 [1, 128, 28, 28]          147,456\n",
       "│    │    └─BatchNorm2d: 3-21            [1, 128, 28, 28]          256\n",
       "│    │    └─ReLU: 3-22                   [1, 128, 28, 28]          --\n",
       "│    │    └─Conv2d: 3-23                 [1, 128, 28, 28]          147,456\n",
       "│    │    └─BatchNorm2d: 3-24            [1, 128, 28, 28]          256\n",
       "│    │    └─ReLU: 3-25                   [1, 128, 28, 28]          --\n",
       "├─Sequential: 1-7                        [1, 256, 14, 14]          --\n",
       "│    └─BasicBlock: 2-5                   [1, 256, 14, 14]          --\n",
       "│    │    └─Conv2d: 3-26                 [1, 256, 14, 14]          294,912\n",
       "│    │    └─BatchNorm2d: 3-27            [1, 256, 14, 14]          512\n",
       "│    │    └─ReLU: 3-28                   [1, 256, 14, 14]          --\n",
       "│    │    └─Conv2d: 3-29                 [1, 256, 14, 14]          589,824\n",
       "│    │    └─BatchNorm2d: 3-30            [1, 256, 14, 14]          512\n",
       "│    │    └─Sequential: 3-31             [1, 256, 14, 14]          33,280\n",
       "│    │    └─ReLU: 3-32                   [1, 256, 14, 14]          --\n",
       "│    └─BasicBlock: 2-6                   [1, 256, 14, 14]          --\n",
       "│    │    └─Conv2d: 3-33                 [1, 256, 14, 14]          589,824\n",
       "│    │    └─BatchNorm2d: 3-34            [1, 256, 14, 14]          512\n",
       "│    │    └─ReLU: 3-35                   [1, 256, 14, 14]          --\n",
       "│    │    └─Conv2d: 3-36                 [1, 256, 14, 14]          589,824\n",
       "│    │    └─BatchNorm2d: 3-37            [1, 256, 14, 14]          512\n",
       "│    │    └─ReLU: 3-38                   [1, 256, 14, 14]          --\n",
       "├─Sequential: 1-8                        [1, 512, 7, 7]            --\n",
       "│    └─BasicBlock: 2-7                   [1, 512, 7, 7]            --\n",
       "│    │    └─Conv2d: 3-39                 [1, 512, 7, 7]            1,179,648\n",
       "│    │    └─BatchNorm2d: 3-40            [1, 512, 7, 7]            1,024\n",
       "│    │    └─ReLU: 3-41                   [1, 512, 7, 7]            --\n",
       "│    │    └─Conv2d: 3-42                 [1, 512, 7, 7]            2,359,296\n",
       "│    │    └─BatchNorm2d: 3-43            [1, 512, 7, 7]            1,024\n",
       "│    │    └─Sequential: 3-44             [1, 512, 7, 7]            132,096\n",
       "│    │    └─ReLU: 3-45                   [1, 512, 7, 7]            --\n",
       "│    └─BasicBlock: 2-8                   [1, 512, 7, 7]            --\n",
       "│    │    └─Conv2d: 3-46                 [1, 512, 7, 7]            2,359,296\n",
       "│    │    └─BatchNorm2d: 3-47            [1, 512, 7, 7]            1,024\n",
       "│    │    └─ReLU: 3-48                   [1, 512, 7, 7]            --\n",
       "│    │    └─Conv2d: 3-49                 [1, 512, 7, 7]            2,359,296\n",
       "│    │    └─BatchNorm2d: 3-50            [1, 512, 7, 7]            1,024\n",
       "│    │    └─ReLU: 3-51                   [1, 512, 7, 7]            --\n",
       "├─AdaptiveAvgPool2d: 1-9                 [1, 512, 1, 1]            --\n",
       "├─Linear: 1-10                           [1, 1000]                 513,000\n",
       "==========================================================================================\n",
       "Total params: 11,689,512\n",
       "Trainable params: 11,689,512\n",
       "Non-trainable params: 0\n",
       "Total mult-adds (G): 1.81\n",
       "==========================================================================================\n",
       "Input size (MB): 0.60\n",
       "Forward/backward pass size (MB): 39.75\n",
       "Params size (MB): 46.76\n",
       "Estimated Total Size (MB): 87.11\n",
       "=========================================================================================="
      ]
     },
     "execution_count": 3,
     "metadata": {},
     "output_type": "execute_result"
    }
   ],
   "source": [
    "torchinfo.summary(model_ft, (1, 3, 224, 224))"
   ]
  },
  {
   "cell_type": "code",
   "execution_count": 4,
   "id": "d5b71a61-6fa2-4eb2-8b7e-d4ee091c94bd",
   "metadata": {},
   "outputs": [],
   "source": [
    "import IPython\n",
    "def imshow(img):\n",
    "    img = img*255\n",
    "    img = cv2.cvtColor(img, cv2.COLOR_RGB2BGR)\n",
    "    _,ret = cv2.imencode('.jpg', img) \n",
    "    i = IPython.display.Image(data=ret)\n",
    "    IPython.display.display(i)"
   ]
  },
  {
   "cell_type": "code",
   "execution_count": 5,
   "id": "eaea3510-eec8-4b04-aca0-f00fd0ede69a",
   "metadata": {},
   "outputs": [],
   "source": [
    "GRID_SHAPE = (7, 7)\n",
    "NUM_CELLS = np.prod(GRID_SHAPE)\n",
    "IMG_SHAPE = (224, 224, 3)\n",
    "cell_shape = nc.data.cell_shape(GRID_SHAPE, IMG_SHAPE)\n",
    "assert np.array_equal(cell_shape, (28, 28))\n",
    "# Need to choose a diameter less than cell width/height\n",
    "# Let's go with 20 (so radius is 10)\n",
    "RADIUS = 10"
   ]
  },
  {
   "cell_type": "code",
   "execution_count": 6,
   "id": "8ea82421-e69f-441b-b69c-485d605ddad8",
   "metadata": {},
   "outputs": [
    {
     "name": "stderr",
     "output_type": "stream",
     "text": [
      "t:  13%|█▎        | 4/30 [00:00<00:00, 31.40it/s, now=None]"
     ]
    },
    {
     "name": "stdout",
     "output_type": "stream",
     "text": [
      "Moviepy - Building video __temp__.mp4.\n",
      "Moviepy - Writing video __temp__.mp4\n",
      "\n"
     ]
    },
    {
     "name": "stderr",
     "output_type": "stream",
     "text": [
      "                                                            "
     ]
    },
    {
     "name": "stdout",
     "output_type": "stream",
     "text": [
      "Moviepy - Done !\n",
      "Moviepy - video ready __temp__.mp4\n"
     ]
    },
    {
     "name": "stderr",
     "output_type": "stream",
     "text": [
      "\r"
     ]
    },
    {
     "data": {
      "text/html": [
       "<div align=middle><video src='data:video/mp4;base64,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' controls>Sorry, seems like your browser doesn't support HTML5 audio/video</video></div>"
      ],
      "text/plain": [
       "<moviepy.video.io.html_tools.HTML2 object>"
      ]
     },
     "execution_count": 6,
     "metadata": {},
     "output_type": "execute_result"
    }
   ],
   "source": [
    "def demo_data():\n",
    "    FPS = 2\n",
    "    frames, labels = nc.data.create_samples(30, radius=RADIUS, grid_shape=GRID_SHAPE, \n",
    "                                            img_shape=IMG_SHAPE)\n",
    "    frames = [f*255 for f in frames]\n",
    "    x_clip = mpe.ImageSequenceClip(frames, fps=2)\n",
    "    y_clip = mpe.TextClip('WB-0', font='DejaVu-Sans')\n",
    "\n",
    "    class FrameText(mpe.VideoClip):\n",
    "        def __init__(self, text, fps):\n",
    "            def make_frame(f):\n",
    "               return mpe.TextClip(text[int(f)], font='DejaVu-Sans', color='white').get_frame(f)\n",
    "            self.duration = 1.0 * len(text) / fps\n",
    "            mpe.VideoClip.__init__(self, make_frame=make_frame, duration=self.duration)\n",
    "\n",
    "    y_clip =   FrameText(labels, FPS)\n",
    "    label_clip = mpe.CompositeVideoClip([mpe.ImageClip(np.zeros(nc.data.DEFAULT_IMG_SHAPE), duration=5), y_clip])\n",
    "    comp_clip = mpe.clips_array([[y_clip],[x_clip]])\n",
    "    return comp_clip\n",
    "clip = demo_data() \n",
    "clip.ipython_display()"
   ]
  },
  {
   "cell_type": "code",
   "execution_count": 7,
   "id": "47112983-1b31-4de6-ab47-09d4f22a5e17",
   "metadata": {},
   "outputs": [
    {
     "data": {
      "image/png": "[encoded data removed]",
      "text/plain": [
       "<IPython.core.display.Image object>"
      ]
     },
     "metadata": {},
     "output_type": "display_data"
    },
    {
     "name": "stderr",
     "output_type": "stream",
     "text": [
      "ic| sample['label']: 0\n",
      "ic| sample['label_grid']: array([[3, 3, 3, 3, 3, 3, 3],\n",
      "                                 [3, 3, 3, 3, 3, 3, 3],\n",
      "                                 [3, 3, 3, 3, 3, 3, 3],\n",
      "                                 [3, 3, 3, 3, 3, 3, 3],\n",
      "                                 [3, 3, 0, 3, 3, 3, 3],\n",
      "                                 [3, 3, 3, 3, 3, 3, 3],\n",
      "                                 [3, 3, 3, 3, 3, 3, 3]])\n"
     ]
    }
   ],
   "source": [
    "def test_dataset():\n",
    "    train, test, val = nc.data.train_test_val_split(nc.data.exp_1_1_data_filtered, \n",
    "                                      RADIUS, GRID_SHAPE, IMG_SHAPE)\n",
    "    sample = val[1]\n",
    "    imshow(sample['image'])\n",
    "    ic(sample['label'])\n",
    "    ic(sample['label_grid'])\n",
    "test_dataset()"
   ]
  },
  {
   "cell_type": "code",
   "execution_count": 8,
   "id": "83b7e1e0-9f85-405e-8c63-2803222cfeb0",
   "metadata": {},
   "outputs": [
    {
     "name": "stderr",
     "output_type": "stream",
     "text": [
      "ic| a: array([[0, 1, 2],\n",
      "              [3, 4, 5],\n",
      "              [6, 7, 8]])\n"
     ]
    },
    {
     "data": {
      "text/plain": [
       "1"
      ]
     },
     "execution_count": 8,
     "metadata": {},
     "output_type": "execute_result"
    }
   ],
   "source": [
    "a = np.array([[0,1, 2],[3,4,5],[6,7,8]])\n",
    "ic(a)\n",
    "co = np.array([0, 1])\n",
    "a[tuple(co)]"
   ]
  },
  {
   "cell_type": "markdown",
   "id": "cd7ddd79-71de-4774-8aa2-30513288b15e",
   "metadata": {},
   "source": [
    "## Customize the model\n",
    "We want to have a model with the fully connected layer removed, and for that, it seems easiest to subclass and override."
   ]
  },
  {
   "cell_type": "code",
   "execution_count": 9,
   "id": "c4108802-2a4a-4124-96a2-96c482515d68",
   "metadata": {},
   "outputs": [
    {
     "data": {
      "text/plain": [
       "_IncompatibleKeys(missing_keys=['fc2.weight', 'fc2.bias'], unexpected_keys=[])"
      ]
     },
     "execution_count": 9,
     "metadata": {},
     "output_type": "execute_result"
    }
   ],
   "source": [
    "class PoolHeadResNet(tv.models.ResNet):\n",
    "    def __init__(self, train_all_params=False, *args, **kwargs):\n",
    "        super().__init__(*args, **kwargs)\n",
    "        num_classes = nc.data.NUM_CLASSES\n",
    "        # First, disable all other parameters.\n",
    "        if not train_all_params:\n",
    "            for param in self.parameters():\n",
    "                param.requires_grad = False\n",
    "        # A 1x1 convolution, representing effectively a fully connected, sub-batched at 7x7.\n",
    "        self.fc2 = torch.nn.Conv2d(in_channels=512, out_channels=num_classes, kernel_size=1,stride=1)\n",
    "        \n",
    "    def _forward_impl(self, x: torch.Tensor) -> torch.Tensor:\n",
    "        # See note [TorchScript super()]\n",
    "        x = self.conv1(x)\n",
    "        x = self.bn1(x)\n",
    "        x = self.relu(x)\n",
    "        x = self.maxpool(x)\n",
    "\n",
    "        x = self.layer1(x)\n",
    "        x = self.layer2(x)\n",
    "        x = self.layer3(x)\n",
    "        x = self.layer4(x)\n",
    "        # Stop above.\n",
    "        #x = self.avgpool(x)\n",
    "        # x = torch.flatten(x, 1)\n",
    "        # x = self.fc(x)\n",
    "        x = self.fc2(x)\n",
    "        return x\n",
    "    \n",
    "train_all_params = True\n",
    "model18 = PoolHeadResNet(train_all_params, tv.models.resnet.BasicBlock, [2, 2, 2, 2])\n",
    "state = torch.hub.load_state_dict_from_url(tv.models.resnet.model_urls['resnet18'])\n",
    "model18.load_state_dict(state, strict=False)"
   ]
  },
  {
   "cell_type": "markdown",
   "id": "44812bde-6979-44b7-93da-92ed8df4e114",
   "metadata": {},
   "source": [
    "### Modified model summary"
   ]
  },
  {
   "cell_type": "code",
   "execution_count": 10,
   "id": "09392a2c-5b82-4565-86c6-9f20c2eb64ab",
   "metadata": {},
   "outputs": [
    {
     "data": {
      "text/plain": [
       "==========================================================================================\n",
       "Layer (type:depth-idx)                   Output Shape              Param #\n",
       "==========================================================================================\n",
       "PoolHeadResNet                           --                        --\n",
       "├─Conv2d: 1-1                            [1, 64, 112, 112]         9,408\n",
       "├─BatchNorm2d: 1-2                       [1, 64, 112, 112]         128\n",
       "├─ReLU: 1-3                              [1, 64, 112, 112]         --\n",
       "├─MaxPool2d: 1-4                         [1, 64, 56, 56]           --\n",
       "├─Sequential: 1-5                        [1, 64, 56, 56]           --\n",
       "│    └─BasicBlock: 2-1                   [1, 64, 56, 56]           --\n",
       "│    │    └─Conv2d: 3-1                  [1, 64, 56, 56]           36,864\n",
       "│    │    └─BatchNorm2d: 3-2             [1, 64, 56, 56]           128\n",
       "│    │    └─ReLU: 3-3                    [1, 64, 56, 56]           --\n",
       "│    │    └─Conv2d: 3-4                  [1, 64, 56, 56]           36,864\n",
       "│    │    └─BatchNorm2d: 3-5             [1, 64, 56, 56]           128\n",
       "│    │    └─ReLU: 3-6                    [1, 64, 56, 56]           --\n",
       "│    └─BasicBlock: 2-2                   [1, 64, 56, 56]           --\n",
       "│    │    └─Conv2d: 3-7                  [1, 64, 56, 56]           36,864\n",
       "│    │    └─BatchNorm2d: 3-8             [1, 64, 56, 56]           128\n",
       "│    │    └─ReLU: 3-9                    [1, 64, 56, 56]           --\n",
       "│    │    └─Conv2d: 3-10                 [1, 64, 56, 56]           36,864\n",
       "│    │    └─BatchNorm2d: 3-11            [1, 64, 56, 56]           128\n",
       "│    │    └─ReLU: 3-12                   [1, 64, 56, 56]           --\n",
       "├─Sequential: 1-6                        [1, 128, 28, 28]          --\n",
       "│    └─BasicBlock: 2-3                   [1, 128, 28, 28]          --\n",
       "│    │    └─Conv2d: 3-13                 [1, 128, 28, 28]          73,728\n",
       "│    │    └─BatchNorm2d: 3-14            [1, 128, 28, 28]          256\n",
       "│    │    └─ReLU: 3-15                   [1, 128, 28, 28]          --\n",
       "│    │    └─Conv2d: 3-16                 [1, 128, 28, 28]          147,456\n",
       "│    │    └─BatchNorm2d: 3-17            [1, 128, 28, 28]          256\n",
       "│    │    └─Sequential: 3-18             [1, 128, 28, 28]          8,448\n",
       "│    │    └─ReLU: 3-19                   [1, 128, 28, 28]          --\n",
       "│    └─BasicBlock: 2-4                   [1, 128, 28, 28]          --\n",
       "│    │    └─Conv2d: 3-20                 [1, 128, 28, 28]          147,456\n",
       "│    │    └─BatchNorm2d: 3-21            [1, 128, 28, 28]          256\n",
       "│    │    └─ReLU: 3-22                   [1, 128, 28, 28]          --\n",
       "│    │    └─Conv2d: 3-23                 [1, 128, 28, 28]          147,456\n",
       "│    │    └─BatchNorm2d: 3-24            [1, 128, 28, 28]          256\n",
       "│    │    └─ReLU: 3-25                   [1, 128, 28, 28]          --\n",
       "├─Sequential: 1-7                        [1, 256, 14, 14]          --\n",
       "│    └─BasicBlock: 2-5                   [1, 256, 14, 14]          --\n",
       "│    │    └─Conv2d: 3-26                 [1, 256, 14, 14]          294,912\n",
       "│    │    └─BatchNorm2d: 3-27            [1, 256, 14, 14]          512\n",
       "│    │    └─ReLU: 3-28                   [1, 256, 14, 14]          --\n",
       "│    │    └─Conv2d: 3-29                 [1, 256, 14, 14]          589,824\n",
       "│    │    └─BatchNorm2d: 3-30            [1, 256, 14, 14]          512\n",
       "│    │    └─Sequential: 3-31             [1, 256, 14, 14]          33,280\n",
       "│    │    └─ReLU: 3-32                   [1, 256, 14, 14]          --\n",
       "│    └─BasicBlock: 2-6                   [1, 256, 14, 14]          --\n",
       "│    │    └─Conv2d: 3-33                 [1, 256, 14, 14]          589,824\n",
       "│    │    └─BatchNorm2d: 3-34            [1, 256, 14, 14]          512\n",
       "│    │    └─ReLU: 3-35                   [1, 256, 14, 14]          --\n",
       "│    │    └─Conv2d: 3-36                 [1, 256, 14, 14]          589,824\n",
       "│    │    └─BatchNorm2d: 3-37            [1, 256, 14, 14]          512\n",
       "│    │    └─ReLU: 3-38                   [1, 256, 14, 14]          --\n",
       "├─Sequential: 1-8                        [1, 512, 7, 7]            --\n",
       "│    └─BasicBlock: 2-7                   [1, 512, 7, 7]            --\n",
       "│    │    └─Conv2d: 3-39                 [1, 512, 7, 7]            1,179,648\n",
       "│    │    └─BatchNorm2d: 3-40            [1, 512, 7, 7]            1,024\n",
       "│    │    └─ReLU: 3-41                   [1, 512, 7, 7]            --\n",
       "│    │    └─Conv2d: 3-42                 [1, 512, 7, 7]            2,359,296\n",
       "│    │    └─BatchNorm2d: 3-43            [1, 512, 7, 7]            1,024\n",
       "│    │    └─Sequential: 3-44             [1, 512, 7, 7]            132,096\n",
       "│    │    └─ReLU: 3-45                   [1, 512, 7, 7]            --\n",
       "│    └─BasicBlock: 2-8                   [1, 512, 7, 7]            --\n",
       "│    │    └─Conv2d: 3-46                 [1, 512, 7, 7]            2,359,296\n",
       "│    │    └─BatchNorm2d: 3-47            [1, 512, 7, 7]            1,024\n",
       "│    │    └─ReLU: 3-48                   [1, 512, 7, 7]            --\n",
       "│    │    └─Conv2d: 3-49                 [1, 512, 7, 7]            2,359,296\n",
       "│    │    └─BatchNorm2d: 3-50            [1, 512, 7, 7]            1,024\n",
       "│    │    └─ReLU: 3-51                   [1, 512, 7, 7]            --\n",
       "├─Conv2d: 1-9                            [1, 4, 7, 7]              2,052\n",
       "==========================================================================================\n",
       "Total params: 11,178,564\n",
       "Trainable params: 11,178,564\n",
       "Non-trainable params: 0\n",
       "Total mult-adds (G): 1.81\n",
       "==========================================================================================\n",
       "Input size (MB): 0.60\n",
       "Forward/backward pass size (MB): 39.74\n",
       "Params size (MB): 44.71\n",
       "Estimated Total Size (MB): 85.06\n",
       "=========================================================================================="
      ]
     },
     "execution_count": 10,
     "metadata": {},
     "output_type": "execute_result"
    }
   ],
   "source": [
    "torchinfo.summary(model18, (1, 3, 224, 224))"
   ]
  },
  {
   "cell_type": "markdown",
   "id": "f2219e74-9381-4961-8fdc-7b0570f59dac",
   "metadata": {},
   "source": [
    "### Check that initialization of the new layer"
   ]
  },
  {
   "cell_type": "code",
   "execution_count": 11,
   "id": "0d86b057-6999-4a44-b049-9880276f7529",
   "metadata": {},
   "outputs": [
    {
     "data": {
      "text/plain": [
       "tensor([[[-0.0155]],\n",
       "\n",
       "        [[ 0.0001]],\n",
       "\n",
       "        [[-0.0345]],\n",
       "\n",
       "        [[ 0.0014]],\n",
       "\n",
       "        [[ 0.0037]],\n",
       "\n",
       "        [[-0.0317]],\n",
       "\n",
       "        [[ 0.0022]],\n",
       "\n",
       "        [[ 0.0246]],\n",
       "\n",
       "        [[-0.0275]],\n",
       "\n",
       "        [[ 0.0251]]], device='cuda:0', grad_fn=<SliceBackward>)"
      ]
     },
     "execution_count": 11,
     "metadata": {},
     "output_type": "execute_result"
    }
   ],
   "source": [
    "model18.fc2.weight[0][0:10]"
   ]
  },
  {
   "cell_type": "markdown",
   "id": "e67ee9ac-cfb4-4714-bd22-150f4bbb623d",
   "metadata": {},
   "source": [
    "All looks good! Now design the loss function.\n",
    "\n",
    "### Find the correct loss function\n",
    "The fundamental loss function is still the same (MLE loss); however, each forward pass now involves 7x7=49 different results that form a sort of \"sub-batch\". We need to modify the standard loss function to work with this increased output dimension.\n",
    "\n",
    "First, test out an example loss. The `CrossEntropyLoss` function luckily supports multidimensional input/outputs in the way I need."
   ]
  },
  {
   "cell_type": "code",
   "execution_count": 12,
   "id": "6f92e5f6-a26e-4b5a-859c-8d698fefe089",
   "metadata": {},
   "outputs": [
    {
     "name": "stderr",
     "output_type": "stream",
     "text": [
      "ic| output: tensor(5.4190)\n"
     ]
    },
    {
     "data": {
      "text/plain": [
       "tensor(5.4190)"
      ]
     },
     "execution_count": 12,
     "metadata": {},
     "output_type": "execute_result"
    }
   ],
   "source": [
    "# Tesing out a loss function\n",
    "# 4x2x2 (smaller test version of our 7x7x4).\n",
    "fc_in = torch.tensor([# batch\n",
    "    [ # 4x2x2\n",
    "        [[-0.3, 0.0], [0.3, 3.2] ], # 2x2\n",
    "        [[ 4.0, 0.1], [-4., 1.1] ], # 2x2\n",
    "        [[ 7.0, 0.4], [2.0, -.4] ], # 2x2\n",
    "        [[ 2.1, 4.1], [2.2, 4.1] ], # 2x2\n",
    "    ]\n",
    "], dtype=torch.float)\n",
    "target = torch.tensor([ # batch\n",
    "    [[0, 1], [1, 1]] # 2x2\n",
    "], dtype=torch.long)\n",
    "loss = torch.nn.CrossEntropyLoss(reduction='mean') # mean or sum for reduction\n",
    "output = loss(fc_in, target)\n",
    "ic(output)"
   ]
  },
  {
   "cell_type": "markdown",
   "id": "22943a2a-3f17-40de-8665-619629f9c0b6",
   "metadata": {},
   "source": [
    "## Training\n",
    "Let's fine tune a Resnet model."
   ]
  },
  {
   "cell_type": "code",
   "execution_count": 15,
   "id": "695ad9ee-ac84-4971-887f-ada46c1c4631",
   "metadata": {},
   "outputs": [],
   "source": [
    "# Copied from: https://pytorch.org/tutorials/beginner/transfer_learning_tutorial.html\n",
    "\n",
    "import torchvision as tv\n",
    "import torchvision.datasets\n",
    "import torchvision.models\n",
    "import torchvision.transforms\n",
    "import torch.nn\n",
    "import torch.optim\n",
    "import time\n",
    "import copy\n",
    "import os\n",
    "\n",
    "# Data augmentation and normalization for training\n",
    "# Just normalization for validation\n",
    "data_transform = tv.transforms.Compose([\n",
    "        tv.transforms.ToTensor(),\n",
    "        tv.transforms.Normalize([0.485, 0.456, 0.406], [0.229, 0.224, 0.225])\n",
    "    ])\n",
    "train_ds, test_ds, val_ds = nc.data.train_test_val_split(nc.data.exp_1_1_data_filtered,\n",
    "                                                        dot_radius=RADIUS,\n",
    "                                                        grid_shape=(7,7))\n",
    "train_ds.transform = data_transform\n",
    "val_ds.transform = data_transform\n",
    "#test_ds.transform = data_transform\n",
    "ds = {'train': train_ds, 'val': val_ds, 'test': test_ds}\n",
    "dataloaders = {x: torch.utils.data.DataLoader(ds[x], batch_size=4, num_workers=4)\n",
    "              for x in ['train', 'val']}\n",
    "dataset_sizes = {x: len(ds[x]) for x in ['train', 'val']}\n",
    "\n",
    "#device = (torch.device(\"cuda:0\") if torch.cuda.is_available() else \"cpu\")\n",
    "device = torch.device(\"cuda:0\")\n",
    "#device = \"cpu\"\n",
    "\n",
    "def train_model(model, criterion, optimizer, scheduler, num_epochs=25):\n",
    "    since = time.time()\n",
    "\n",
    "    best_model_wts = copy.deepcopy(model.state_dict())\n",
    "    best_acc = 0.0\n",
    "\n",
    "    for epoch in range(num_epochs):\n",
    "        print('Epoch {}/{}'.format(epoch, num_epochs - 1))\n",
    "        print('-' * 10)\n",
    "\n",
    "        # Each epoch has a training and validation phase\n",
    "        for phase in ['train', 'val']:\n",
    "            if phase == 'train':\n",
    "                model.train()  # Set model to training mode\n",
    "            else:\n",
    "                model.eval()   # Set model to evaluate mode\n",
    "\n",
    "            running_loss = 0.0\n",
    "            running_corrects = 0\n",
    "\n",
    "            # Iterate over data.\n",
    "            #for inputs, labels in dataloaders[phase]:\n",
    "            for batch in dataloaders[phase]:\n",
    "                inputs = batch['image'].to(device)\n",
    "                labels = batch['label'].to(device)\n",
    "                label_grids = batch['label_grid'].to(device)\n",
    "\n",
    "                # zero the parameter gradients\n",
    "                optimizer.zero_grad()\n",
    "\n",
    "                # forward\n",
    "                # track history if only in train\n",
    "                with torch.set_grad_enabled(phase == 'train'):\n",
    "                    outputs = model(inputs)\n",
    "                    _, preds = torch.max(outputs, 1)\n",
    "                    loss = criterion(outputs, label_grids)\n",
    "                    # backward + optimize only if in training phase\n",
    "                    if phase == 'train':\n",
    "                        loss.backward()\n",
    "                        optimizer.step()\n",
    "\n",
    "                # statistics\n",
    "                running_loss += loss.item() * inputs.size(0)\n",
    "                running_corrects += torch.sum(preds == label_grids.data)\n",
    "            if phase == 'train':\n",
    "                scheduler.step()\n",
    "\n",
    "            denom = dataset_sizes[phase] * NUM_CELLS\n",
    "            epoch_loss = running_loss / denom\n",
    "            epoch_acc = running_corrects.double() / denom\n",
    "\n",
    "            print('{} Loss: {:.4f} Acc: {:.4f}'.format(\n",
    "                phase, epoch_loss, epoch_acc))\n",
    "\n",
    "            # deep copy the model\n",
    "            if phase == 'val' and epoch_acc > best_acc:\n",
    "                best_acc = epoch_acc\n",
    "                # temporarily disable due to yet-unresearched error.\n",
    "                best_model_wts = copy.deepcopy(model.state_dict())\n",
    "\n",
    "        print()\n",
    "\n",
    "    time_elapsed = time.time() - since\n",
    "    print('Training complete in {:.0f}m {:.0f}s'.format(\n",
    "        time_elapsed // 60, time_elapsed % 60))\n",
    "    print('Best val Acc: {:4f}'.format(best_acc))\n",
    "\n",
    "    # load best model weights\n",
    "    model.load_state_dict(best_model_wts)\n",
    "    return model"
   ]
  },
  {
   "cell_type": "code",
   "execution_count": 16,
   "id": "6bfdee39-9835-4bf4-a8ad-e3e1bedd9a1c",
   "metadata": {},
   "outputs": [
    {
     "name": "stdout",
     "output_type": "stream",
     "text": [
      "Epoch 0/4\n",
      "----------\n",
      "train Loss: 0.0293 Acc: 0.2978\n",
      "val Loss: 0.0267 Acc: 0.4139\n",
      "\n",
      "Epoch 1/4\n",
      "----------\n",
      "train Loss: 0.0293 Acc: 0.2978\n",
      "val Loss: 0.0267 Acc: 0.4139\n",
      "\n",
      "Epoch 2/4\n",
      "----------\n",
      "train Loss: 0.0293 Acc: 0.2978\n",
      "val Loss: 0.0267 Acc: 0.4139\n",
      "\n",
      "Epoch 3/4\n",
      "----------\n",
      "train Loss: 0.0293 Acc: 0.2978\n",
      "val Loss: 0.0267 Acc: 0.4139\n",
      "\n",
      "Epoch 4/4\n",
      "----------\n",
      "train Loss: 0.0293 Acc: 0.2978\n",
      "val Loss: 0.0267 Acc: 0.4139\n",
      "\n",
      "Training complete in 1m 58s\n",
      "Best val Acc: 0.413855\n"
     ]
    }
   ],
   "source": [
    "# Load & train\n",
    "# Here the size of each output sample is set to 2.\n",
    "# Alternatively, it can be generalized to nn.Linear(num_ftrs, len(class_names)).\n",
    "model = model18.to(device)\n",
    "\n",
    "criterion = torch.nn.CrossEntropyLoss()\n",
    "# Observe that all parameters are being optimized\n",
    "optimizer_ft = torch.optim.SGD(model_ft.parameters(), lr=0.001, momentum=0.9)\n",
    "# Decay LR by a factor of 0.1 every 7 epochs\n",
    "exp_lr_scheduler = torch.optim.lr_scheduler.StepLR(optimizer_ft, step_size=7, gamma=0.1)\n",
    "\n",
    "model = train_model(model, criterion, optimizer_ft, exp_lr_scheduler, num_epochs=5)"
   ]
  },
  {
   "cell_type": "markdown",
   "id": "2597cacb-0e3a-42fd-ab1e-d9fe54a5d561",
   "metadata": {},
   "source": [
    "## Results\n",
    "After 20 epochs, we have 63% accuracy. This is _quite_ low, considering that simply returning \"neither\" all the time will produce an accuracy of about 48/49. Why hasn't it done this? \n",
    "\n",
    "## Discussion\n",
    "Low accuracy suggests that there isn't enough information at the 7x7 pre-pool activations in order to distinguish orange and brown.\n",
    "\n",
    "However, some details motivate a pause. \n",
    "\n",
    "- Why didn't the network just learn to output \"neither\" and get a much higher accuracy? \n",
    "- How should I go about balancing the dataset? Should I only consider 2 cells for each pass-through?\n",
    "- Why is training so slow? If there is a bug, it might affect accuracy.\n",
    "- What does changing the size of the dot do?\n",
    "\n"
   ]
  },
  {
   "cell_type": "code",
   "execution_count": 21,
   "id": "5e61dea4-7d8b-487d-b078-0db7a252ade8",
   "metadata": {},
   "outputs": [
    {
     "name": "stderr",
     "output_type": "stream",
     "text": [
      "ic| sample['label']: 0\n"
     ]
    },
    {
     "data": {
      "image/png": "[encoded data removed]",
      "text/plain": [
       "<IPython.core.display.Image object>"
      ]
     },
     "metadata": {},
     "output_type": "display_data"
    },
    {
     "name": "stderr",
     "output_type": "stream",
     "text": [
      "ic| img.shape: (224, 224, 3)\n",
      "ic| output.shape: torch.Size([1, 4, 7, 7])\n",
      "ic| ans: tensor([[[3, 3, 0, 2, 0, 0, 0],\n",
      "                  [3, 3, 3, 2, 2, 0, 0],\n",
      "                  [3, 3, 0, 2, 0, 0, 0],\n",
      "                  [3, 3, 3, 2, 0, 0, 0],\n",
      "                  [3, 3, 3, 3, 3, 3, 3],\n",
      "                  [3, 3, 3, 3, 3, 3, 3],\n",
      "                  [3, 3, 3, 3, 3, 3, 3]]], device='cuda:0')\n",
      "ic| sample['label_grid']: array([[3, 3, 3, 3, 0, 3, 3],\n",
      "                                 [3, 3, 3, 3, 3, 3, 3],\n",
      "                                 [3, 3, 3, 3, 3, 3, 3],\n",
      "                                 [3, 3, 3, 3, 3, 3, 3],\n",
      "                                 [3, 3, 3, 3, 3, 3, 3],\n",
      "                                 [3, 3, 3, 3, 3, 3, 3],\n",
      "                                 [3, 3, 3, 3, 3, 3, 3]])\n"
     ]
    },
    {
     "data": {
      "text/plain": [
       "array([[3, 3, 3, 3, 0, 3, 3],\n",
       "       [3, 3, 3, 3, 3, 3, 3],\n",
       "       [3, 3, 3, 3, 3, 3, 3],\n",
       "       [3, 3, 3, 3, 3, 3, 3],\n",
       "       [3, 3, 3, 3, 3, 3, 3],\n",
       "       [3, 3, 3, 3, 3, 3, 3],\n",
       "       [3, 3, 3, 3, 3, 3, 3]])"
      ]
     },
     "execution_count": 21,
     "metadata": {},
     "output_type": "execute_result"
    }
   ],
   "source": [
    "#sample = next(iter(dataloaders['train']))\n",
    "sample = test_ds[3]\n",
    "img = sample['image']\n",
    "ic(sample['label'])\n",
    "imshow(img)\n",
    "ic(img.shape)\n",
    "input_ = torch.unsqueeze(data_transform(img), 0)\n",
    "input_ = input_.to(device)\n",
    "output = model(input_)\n",
    "ic(output.shape)\n",
    "ans = torch.argmax(output, 1)\n",
    "ic(ans)\n",
    "ic(sample['label_grid'])"
   ]
  },
  {
   "cell_type": "code",
   "execution_count": null,
   "id": "ba9b1ba9-b092-473c-8840-bfdc777fee7d",
   "metadata": {},
   "outputs": [],
   "source": []
  }
 ],
 "metadata": {
  "kernelspec": {
   "display_name": "Python 3",
   "language": "python",
   "name": "python3"
  },
  "language_info": {
   "codemirror_mode": {
    "name": "ipython",
    "version": 3
   },
   "file_extension": ".py",
   "mimetype": "text/x-python",
   "name": "python",
   "nbconvert_exporter": "python",
   "pygments_lexer": "ipython3",
   "version": "3.8.8"
  }
 },
 "nbformat": 4,
 "nbformat_minor": 5
}
